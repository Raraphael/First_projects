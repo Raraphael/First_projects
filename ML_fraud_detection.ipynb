{
 "cells": [
  {
   "cell_type": "markdown",
   "metadata": {},
   "source": [
    "# Find the right algorithm to detect fraudulent purchases on a website"
   ]
  },
  {
   "cell_type": "code",
   "execution_count": 1,
   "metadata": {
    "colab": {
     "base_uri": "https://localhost:8080/",
     "height": 683
    },
    "colab_type": "code",
    "id": "ZqrPW_kQAO8r",
    "outputId": "166cbb7c-9595-4d62-a5f4-88653ced1175"
   },
   "outputs": [],
   "source": [
    "#!pip install pycountry_convert"
   ]
  },
  {
   "cell_type": "code",
   "execution_count": 1,
   "metadata": {
    "colab": {},
    "colab_type": "code",
    "id": "qPfae33r6iTn"
   },
   "outputs": [],
   "source": [
    "import pandas as pd\n",
    "import numpy as np\n",
    "import matplotlib.pyplot as plt\n",
    "import seaborn as sns\n",
    "\n",
    "import datetime\n",
    "import pycountry_convert as pc\n",
    "\n",
    "from sklearn.model_selection import train_test_split, GridSearchCV\n",
    "from sklearn.preprocessing import StandardScaler\n",
    "\n",
    "\n",
    "from sklearn.linear_model import LogisticRegression\n",
    "from sklearn.tree import DecisionTreeClassifier \n",
    "from sklearn.ensemble import GradientBoostingClassifier, RandomForestClassifier\n",
    "                              \n",
    "from xgboost import XGBClassifier\n",
    "\n",
    "from sklearn.metrics import (accuracy_score, confusion_matrix, classification_report,\n",
    "                             recall_score, roc_auc_score, roc_curve)"
   ]
  },
  {
   "cell_type": "markdown",
   "metadata": {},
   "source": [
    "## Link the two dataset by associating the IP address with its country."
   ]
  },
  {
   "cell_type": "code",
   "execution_count": 0,
   "metadata": {
    "colab": {},
    "colab_type": "code",
    "id": "D0QDFzCz7994"
   },
   "outputs": [],
   "source": [
    "# # load dataset\n",
    "# dataset = pd.read_csv(\"Fraud_Data.csv\")\n",
    "# countries = pd.read_csv(\"IpAddress_to_Country.csv\")\n",
    "# # match country with ip address\n",
    "# def transform_ip(arg) :\n",
    "#     try :\n",
    "#         return countries.country[(countries.lower_bound_ip_address < arg) & (countries.upper_bound_ip_address > arg)].iloc[0]\n",
    "#     except IndexError :\n",
    "#         return \"Pays inconnu\"  \n",
    "# dataset[\"Pays\"] = dataset.ip_address.apply(transform_ip)\n"
   ]
  },
  {
   "cell_type": "markdown",
   "metadata": {},
   "source": [
    "The previous function has a long computation time so we export our new dataset in order not to repeat the operation."
   ]
  },
  {
   "cell_type": "code",
   "execution_count": 0,
   "metadata": {
    "colab": {},
    "colab_type": "code",
    "id": "mFEY__5N8KES"
   },
   "outputs": [],
   "source": [
    "#dataset.to_csv('/<Path>/Fraud_with_countries.csv', index = False)"
   ]
  },
  {
   "cell_type": "code",
   "execution_count": 60,
   "metadata": {},
   "outputs": [],
   "source": [
    "df = pd.read_csv('Fraud_with_countries.csv')"
   ]
  },
  {
   "cell_type": "code",
   "execution_count": 240,
   "metadata": {
    "colab": {
     "base_uri": "https://localhost:8080/",
     "height": 204
    },
    "colab_type": "code",
    "id": "AG4P1_qO8KN4",
    "outputId": "e12fb8f0-6798-437a-f27a-0a9b130e8d71"
   },
   "outputs": [
    {
     "data": {
      "text/html": [
       "<div>\n",
       "<style scoped>\n",
       "    .dataframe tbody tr th:only-of-type {\n",
       "        vertical-align: middle;\n",
       "    }\n",
       "\n",
       "    .dataframe tbody tr th {\n",
       "        vertical-align: top;\n",
       "    }\n",
       "\n",
       "    .dataframe thead th {\n",
       "        text-align: right;\n",
       "    }\n",
       "</style>\n",
       "<table border=\"1\" class=\"dataframe\">\n",
       "  <thead>\n",
       "    <tr style=\"text-align: right;\">\n",
       "      <th></th>\n",
       "      <th>user_id</th>\n",
       "      <th>signup_time</th>\n",
       "      <th>purchase_time</th>\n",
       "      <th>purchase_value</th>\n",
       "      <th>device_id</th>\n",
       "      <th>source</th>\n",
       "      <th>browser</th>\n",
       "      <th>sex</th>\n",
       "      <th>age</th>\n",
       "      <th>ip_address</th>\n",
       "      <th>class</th>\n",
       "      <th>country</th>\n",
       "    </tr>\n",
       "  </thead>\n",
       "  <tbody>\n",
       "    <tr>\n",
       "      <th>0</th>\n",
       "      <td>22058</td>\n",
       "      <td>2015-02-24 22:55:49</td>\n",
       "      <td>2015-04-18 02:47:11</td>\n",
       "      <td>34</td>\n",
       "      <td>QVPSPJUOCKZAR</td>\n",
       "      <td>SEO</td>\n",
       "      <td>Chrome</td>\n",
       "      <td>M</td>\n",
       "      <td>39</td>\n",
       "      <td>7.327584e+08</td>\n",
       "      <td>0</td>\n",
       "      <td>Japan</td>\n",
       "    </tr>\n",
       "    <tr>\n",
       "      <th>1</th>\n",
       "      <td>333320</td>\n",
       "      <td>2015-06-07 20:39:50</td>\n",
       "      <td>2015-06-08 01:38:54</td>\n",
       "      <td>16</td>\n",
       "      <td>EOGFQPIZPYXFZ</td>\n",
       "      <td>Ads</td>\n",
       "      <td>Chrome</td>\n",
       "      <td>F</td>\n",
       "      <td>53</td>\n",
       "      <td>3.503114e+08</td>\n",
       "      <td>0</td>\n",
       "      <td>United States</td>\n",
       "    </tr>\n",
       "    <tr>\n",
       "      <th>2</th>\n",
       "      <td>1359</td>\n",
       "      <td>2015-01-01 18:52:44</td>\n",
       "      <td>2015-01-01 18:52:45</td>\n",
       "      <td>15</td>\n",
       "      <td>YSSKYOSJHPPLJ</td>\n",
       "      <td>SEO</td>\n",
       "      <td>Opera</td>\n",
       "      <td>M</td>\n",
       "      <td>53</td>\n",
       "      <td>2.621474e+09</td>\n",
       "      <td>1</td>\n",
       "      <td>United States</td>\n",
       "    </tr>\n",
       "    <tr>\n",
       "      <th>3</th>\n",
       "      <td>150084</td>\n",
       "      <td>2015-04-28 21:13:25</td>\n",
       "      <td>2015-05-04 13:54:50</td>\n",
       "      <td>44</td>\n",
       "      <td>ATGTXKYKUDUQN</td>\n",
       "      <td>SEO</td>\n",
       "      <td>Safari</td>\n",
       "      <td>M</td>\n",
       "      <td>41</td>\n",
       "      <td>3.840542e+09</td>\n",
       "      <td>0</td>\n",
       "      <td>NaN</td>\n",
       "    </tr>\n",
       "    <tr>\n",
       "      <th>4</th>\n",
       "      <td>221365</td>\n",
       "      <td>2015-07-21 07:09:52</td>\n",
       "      <td>2015-09-09 18:40:53</td>\n",
       "      <td>39</td>\n",
       "      <td>NAUITBZFJKHWW</td>\n",
       "      <td>Ads</td>\n",
       "      <td>Safari</td>\n",
       "      <td>M</td>\n",
       "      <td>45</td>\n",
       "      <td>4.155831e+08</td>\n",
       "      <td>0</td>\n",
       "      <td>United States</td>\n",
       "    </tr>\n",
       "  </tbody>\n",
       "</table>\n",
       "</div>"
      ],
      "text/plain": [
       "   user_id          signup_time  ... class        country\n",
       "0    22058  2015-02-24 22:55:49  ...     0          Japan\n",
       "1   333320  2015-06-07 20:39:50  ...     0  United States\n",
       "2     1359  2015-01-01 18:52:44  ...     1  United States\n",
       "3   150084  2015-04-28 21:13:25  ...     0            NaN\n",
       "4   221365  2015-07-21 07:09:52  ...     0  United States\n",
       "\n",
       "[5 rows x 12 columns]"
      ]
     },
     "execution_count": 240,
     "metadata": {
      "tags": []
     },
     "output_type": "execute_result"
    }
   ],
   "source": [
    "#take a look at the dataset\n",
    "df.head()"
   ]
  },
  {
   "cell_type": "code",
   "execution_count": 0,
   "metadata": {
    "colab": {
     "base_uri": "https://localhost:8080/",
     "height": 499
    },
    "colab_type": "code",
    "id": "RrOuw56aSTBv",
    "outputId": "170f265a-a610-4a11-add3-27e67048e36d"
   },
   "outputs": [
    {
     "data": {
      "image/png": "[encoded data removed]",
      "text/plain": [
       "<Figure size 864x576 with 1 Axes>"
      ]
     },
     "metadata": {
      "tags": []
     },
     "output_type": "display_data"
    }
   ],
   "source": [
    "# Let's take a look at our target\n",
    "plt.figure(figsize=(12,8))\n",
    "plt.title('Percentage of fraud in the data')\n",
    "\n",
    "ax = (df['class'].value_counts()/len(df)*100).sort_index().plot(kind=\"bar\", rot=0)\n",
    "ax.set_yticks(np.arange(0, 110, 10))\n",
    "for p in ax.patches:\n",
    "    ax.annotate('{:.2f}%'.format(p.get_height()), (p.get_x()+0.15, p.get_height()+1))"
   ]
  },
  {
   "cell_type": "code",
   "execution_count": 0,
   "metadata": {
    "colab": {},
    "colab_type": "code",
    "id": "w0Y01RUYJWKr"
   },
   "outputs": [],
   "source": [
    "#Let's look at the linear influence of the variables (that can be dummyfied) on our target\n",
    "y=df['class']\n",
    "X = df[[ 'purchase_value', 'browser', 'sex', 'age', 'country' ]]\n",
    "X = pd.get_dummies(X)\n",
    "X_columns = X.columns"
   ]
  },
  {
   "cell_type": "code",
   "execution_count": 0,
   "metadata": {
    "colab": {
     "base_uri": "https://localhost:8080/",
     "height": 518
    },
    "colab_type": "code",
    "id": "HZXrYF0SJVqS",
    "outputId": "c48378f5-cdd1-42ec-8428-3f3815bd3bf1"
   },
   "outputs": [
    {
     "data": {
      "image/png": "[encoded data removed]",
      "text/plain": [
       "<Figure size 864x576 with 2 Axes>"
      ]
     },
     "metadata": {
      "tags": []
     },
     "output_type": "display_data"
    }
   ],
   "source": [
    "from sklearn.feature_selection import chi2\n",
    "khi2 = chi2(X,y)\n",
    "#créate a Dataframe\n",
    "feature_ranking = pd.DataFrame({\"Features\": X_columns,\n",
    "                                   \"Khi2\": khi2[0],\n",
    "                                  \"P_value\" : khi2[1]})\n",
    "#Sort the dataset\n",
    "feature_ranking.sort_values(by = \"Khi2\", ascending=False)\n",
    "\n",
    "#Graph Khi-2 score and P-Value\n",
    "fig, axarr = plt.subplots(1,2, figsize=(12, 8))\n",
    "z = feature_ranking.iloc[:10]\n",
    "sns.barplot(x=\"Khi2\",y=\"Features\", \n",
    "            data = z.sort_values(\"Khi2\", ascending=False),\n",
    "            ax=axarr[0] )\n",
    "sns.barplot(x=\"P_value\",y=\"Features\", \n",
    "            data = z.sort_values(\"P_value\", ascending=True),\n",
    "            ax=axarr[1])\n",
    "axarr[0].set_title(\"Khi2 score\", fontsize=18)\n",
    "axarr[1].set_title(\"P value score\", fontsize=18)\n",
    "plt.close(2)\n",
    "plt.show()"
   ]
  },
  {
   "cell_type": "markdown",
   "metadata": {},
   "source": [
    "## Try a first logistic regression with these features"
   ]
  },
  {
   "cell_type": "code",
   "execution_count": 0,
   "metadata": {
    "colab": {},
    "colab_type": "code",
    "id": "lKPVQoiAIcdd"
   },
   "outputs": [],
   "source": [
    "y=df['class']\n",
    "X = df[[ 'purchase_value', 'browser', 'sex',  'age', 'country']]"
   ]
  },
  {
   "cell_type": "code",
   "execution_count": 0,
   "metadata": {
    "colab": {},
    "colab_type": "code",
    "id": "qweODoHCIcZg"
   },
   "outputs": [],
   "source": [
    "# Get dummies and standardScaler separatly\n",
    "from sklearn.preprocessing import StandardScaler \n",
    "sc_x = StandardScaler()\n",
    "num_col = X.select_dtypes([np.number]).columns\n",
    "cat_col = X.select_dtypes(\"object\").columns\n",
    "X_num = X[num_col]\n",
    "X_cat =  pd.get_dummies(X[cat_col],drop_first=True)\n",
    "X_train_num, X_test_num, X_train_cat, X_test_cat, y_train, y_test = train_test_split(X_num, X_cat, y, test_size =0.2, stratify = y)\n",
    "X_train_num_norm = pd.DataFrame(sc_x.fit_transform(X_train_num),columns=X_train_num.columns, index = X_train_num.index)\n",
    "X_test_num_norm = pd.DataFrame(sc_x.transform(X_test_num),columns=X_test_num.columns, index = X_test_num.index)\n",
    "\n",
    "X_train = pd.merge(X_train_num_norm, X_train_cat,left_index=True, right_index=True)\n",
    "X_test = pd.merge(X_test_num_norm, X_test_cat,left_index=True, right_index=True)"
   ]
  },
  {
   "cell_type": "code",
   "execution_count": 482,
   "metadata": {
    "colab": {
     "base_uri": "https://localhost:8080/",
     "height": 238
    },
    "colab_type": "code",
    "id": "mL9iso_YIcUo",
    "outputId": "c61fcafd-6bee-45d9-d960-da09d5047dcd"
   },
   "outputs": [
    {
     "name": "stderr",
     "output_type": "stream",
     "text": [
      "/usr/local/lib/python3.6/dist-packages/sklearn/linear_model/_logistic.py:940: ConvergenceWarning: lbfgs failed to converge (status=1):\n",
      "STOP: TOTAL NO. of ITERATIONS REACHED LIMIT.\n",
      "\n",
      "Increase the number of iterations (max_iter) or scale the data as shown in:\n",
      "    https://scikit-learn.org/stable/modules/preprocessing.html\n",
      "Please also refer to the documentation for alternative solver options:\n",
      "    https://scikit-learn.org/stable/modules/linear_model.html#logistic-regression\n",
      "  extra_warning_msg=_LOGISTIC_SOLVER_CONVERGENCE_MSG)\n"
     ]
    },
    {
     "data": {
      "text/plain": [
       "LogisticRegression(C=1.0, class_weight=None, dual=False, fit_intercept=True,\n",
       "                   intercept_scaling=1, l1_ratio=None, max_iter=100,\n",
       "                   multi_class='auto', n_jobs=None, penalty='l2',\n",
       "                   random_state=None, solver='lbfgs', tol=0.0001, verbose=0,\n",
       "                   warm_start=False)"
      ]
     },
     "execution_count": 482,
     "metadata": {
      "tags": []
     },
     "output_type": "execute_result"
    }
   ],
   "source": [
    "classifier = LogisticRegression() \n",
    "classifier.fit(X_train, y_train)"
   ]
  },
  {
   "cell_type": "code",
   "execution_count": 483,
   "metadata": {
    "colab": {
     "base_uri": "https://localhost:8080/",
     "height": 697
    },
    "colab_type": "code",
    "id": "FmvqXS5kIcQi",
    "outputId": "adff583d-56e5-4ca5-cf0b-92eea354f471"
   },
   "outputs": [
    {
     "data": {
      "image/png": "[encoded data removed]",
      "text/plain": [
       "<Figure size 648x432 with 2 Axes>"
      ]
     },
     "metadata": {
      "tags": []
     },
     "output_type": "display_data"
    },
    {
     "name": "stdout",
     "output_type": "stream",
     "text": [
      "[[27393  2830]\n",
      " [    0     0]]\n",
      "--*--\n",
      "Classification par Regression logistique \n",
      "              precision    recall  f1-score   support\n",
      "\n",
      "           0       0.91      1.00      0.95     27393\n",
      "           1       0.00      0.00      0.00      2830\n",
      "\n",
      "    accuracy                           0.91     30223\n",
      "   macro avg       0.45      0.50      0.48     30223\n",
      "weighted avg       0.82      0.91      0.86     30223\n",
      "\n",
      "False negative rate 0.0 %\n",
      "False positive rate 9.36 %\n"
     ]
    },
    {
     "name": "stderr",
     "output_type": "stream",
     "text": [
      "/usr/local/lib/python3.6/dist-packages/sklearn/metrics/_classification.py:1272: UndefinedMetricWarning: Precision and F-score are ill-defined and being set to 0.0 in labels with no predicted samples. Use `zero_division` parameter to control this behavior.\n",
      "  _warn_prf(average, modifier, msg_start, len(result))\n"
     ]
    }
   ],
   "source": [
    "y_pred_log = classifier.predict(X_test)\n",
    "\n",
    "f, ax = plt.subplots(figsize=(9, 6))\n",
    "cm = confusion_matrix(y_pred_log, y_test)\n",
    "sns.heatmap(cm, annot=True, fmt = 'd', ax = ax)\n",
    "plt.xlabel(\"Actual\")\n",
    "plt.ylabel(\"Predicted\")\n",
    "plt.show()\n",
    "print(cm)\n",
    "print('*'.center(5,'-'))\n",
    "print(\"Classification par Regression logistique \")\n",
    "print(classification_report(y_true = y_test, y_pred  = classifier.predict(X_test)))\n",
    "print(\"False negative rate {} %\".format(round(cm[1,0]/(cm[0,0]+cm[1,1]+cm[1,0]+cm[0,1])*100,2)))\n",
    "print(\"False positive rate {} %\".format(round(cm[0,1]/(cm[0,0]+cm[1,1]+cm[1,0]+cm[0,1])*100,2)))"
   ]
  },
  {
   "cell_type": "markdown",
   "metadata": {
    "colab_type": "text",
    "id": "4OKUg2TpMW-m"
   },
   "source": [
    "We've failed to detect a single case of fraud   \n",
    "Let's try a random forest"
   ]
  },
  {
   "cell_type": "code",
   "execution_count": 0,
   "metadata": {
    "colab": {},
    "colab_type": "code",
    "id": "fis0gqsVIcOP"
   },
   "outputs": [],
   "source": [
    "y=df['class']\n",
    "X = df[[ 'purchase_value', 'browser', 'sex',  'age', 'country']]"
   ]
  },
  {
   "cell_type": "code",
   "execution_count": 0,
   "metadata": {
    "colab": {},
    "colab_type": "code",
    "id": "GAeTnS9WIcJx"
   },
   "outputs": [],
   "source": [
    "X = pd.get_dummies(X, drop_first=True)\n",
    "X_train, X_test, y_train, y_test = train_test_split(X,y, test_size =0.2, random_state = 42)\n",
    "X_columns=X_train.columns"
   ]
  },
  {
   "cell_type": "code",
   "execution_count": 0,
   "metadata": {
    "colab": {
     "base_uri": "https://localhost:8080/",
     "height": 153
    },
    "colab_type": "code",
    "id": "wJfzzgedIcHp",
    "outputId": "859d9630-f6db-47ed-d17e-d4c9313e020e"
   },
   "outputs": [
    {
     "data": {
      "text/plain": [
       "RandomForestClassifier(bootstrap=True, ccp_alpha=0.0, class_weight=None,\n",
       "                       criterion='gini', max_depth=None, max_features='auto',\n",
       "                       max_leaf_nodes=None, max_samples=None,\n",
       "                       min_impurity_decrease=0.0, min_impurity_split=None,\n",
       "                       min_samples_leaf=1, min_samples_split=2,\n",
       "                       min_weight_fraction_leaf=0.0, n_estimators=100,\n",
       "                       n_jobs=None, oob_score=False, random_state=None,\n",
       "                       verbose=0, warm_start=False)"
      ]
     },
     "execution_count": 77,
     "metadata": {
      "tags": []
     },
     "output_type": "execute_result"
    }
   ],
   "source": [
    "rfc = RandomForestClassifier(n_estimators = 100)\n",
    "rfc.fit(X_train,y_train)"
   ]
  },
  {
   "cell_type": "code",
   "execution_count": 0,
   "metadata": {
    "colab": {
     "base_uri": "https://localhost:8080/",
     "height": 629
    },
    "colab_type": "code",
    "id": "DuC0A2qAIcDg",
    "outputId": "5f799fd2-1c7d-4f2e-9302-5d7109d9c62e"
   },
   "outputs": [
    {
     "data": {
      "image/png": "[encoded data removed]",
      "text/plain": [
       "<Figure size 648x432 with 2 Axes>"
      ]
     },
     "metadata": {
      "tags": []
     },
     "output_type": "display_data"
    },
    {
     "name": "stdout",
     "output_type": "stream",
     "text": [
      "[[26683  1378]\n",
      " [  690  1472]]\n",
      "--*--\n",
      "Classification par random forest \n",
      "              precision    recall  f1-score   support\n",
      "\n",
      "           0       0.95      0.97      0.96     27373\n",
      "           1       0.68      0.52      0.59      2850\n",
      "\n",
      "    accuracy                           0.93     30223\n",
      "   macro avg       0.82      0.75      0.78     30223\n",
      "weighted avg       0.93      0.93      0.93     30223\n",
      "\n",
      "False negative rate 2.28 %\n",
      "False positive rate 4.56 %\n"
     ]
    }
   ],
   "source": [
    "y_pred_rfc = rfc.predict(X_test)\n",
    "\n",
    "f, ax = plt.subplots(figsize=(9, 6))\n",
    "cm = confusion_matrix(y_pred_rfc, y_test)\n",
    "sns.heatmap(cm, annot=True, fmt = 'd', ax = ax)\n",
    "plt.show()\n",
    "print(cm)\n",
    "print('*'.center(5,'-'))\n",
    "print(\"Classification par random forest \")\n",
    "print(classification_report(y_true = y_test, y_pred  = rfc.predict(X_test)))\n",
    "print(\"False negative rate {} %\".format(round(cm[1,0]/(cm[0,0]+cm[1,1]+cm[1,0]+cm[0,1])*100,2)))\n",
    "print(\"False positive rate {} %\".format(round(cm[0,1]/(cm[0,0]+cm[1,1]+cm[1,0]+cm[0,1])*100,2)))"
   ]
  },
  {
   "cell_type": "markdown",
   "metadata": {
    "colab_type": "text",
    "id": "yvrIrOvKRen4"
   },
   "source": [
    "Random forest performs better, however, we only managed to detect 52% of the fraudulent operations.  "
   ]
  },
  {
   "cell_type": "markdown",
   "metadata": {},
   "source": [
    "## We need feature engineering"
   ]
  },
  {
   "cell_type": "markdown",
   "metadata": {},
   "source": [
    "### Time"
   ]
  },
  {
   "cell_type": "code",
   "execution_count": 8,
   "metadata": {
    "colab": {
     "base_uri": "https://localhost:8080/",
     "height": 419
    },
    "colab_type": "code",
    "id": "EyUOSKo5TFC0",
    "outputId": "1e218cce-b1b7-4b49-ce67-779409d2e3c7"
   },
   "outputs": [
    {
     "data": {
      "text/html": [
       "<div>\n",
       "<style scoped>\n",
       "    .dataframe tbody tr th:only-of-type {\n",
       "        vertical-align: middle;\n",
       "    }\n",
       "\n",
       "    .dataframe tbody tr th {\n",
       "        vertical-align: top;\n",
       "    }\n",
       "\n",
       "    .dataframe thead th {\n",
       "        text-align: right;\n",
       "    }\n",
       "</style>\n",
       "<table border=\"1\" class=\"dataframe\">\n",
       "  <thead>\n",
       "    <tr style=\"text-align: right;\">\n",
       "      <th></th>\n",
       "      <th>user_id</th>\n",
       "      <th>signup_time</th>\n",
       "      <th>purchase_time</th>\n",
       "      <th>purchase_value</th>\n",
       "      <th>device_id</th>\n",
       "      <th>source</th>\n",
       "      <th>browser</th>\n",
       "      <th>sex</th>\n",
       "      <th>age</th>\n",
       "      <th>ip_address</th>\n",
       "      <th>...</th>\n",
       "      <th>week_of_purchased</th>\n",
       "      <th>signup_MONTH</th>\n",
       "      <th>signup_DAY</th>\n",
       "      <th>purchase_MONTH</th>\n",
       "      <th>purchase_DAY</th>\n",
       "      <th>time_to_purchase</th>\n",
       "      <th>day_to_purchase</th>\n",
       "      <th>hours_to_purchase</th>\n",
       "      <th>minutes_to_purchase</th>\n",
       "      <th>second_to_purchase</th>\n",
       "    </tr>\n",
       "  </thead>\n",
       "  <tbody>\n",
       "    <tr>\n",
       "      <td>0</td>\n",
       "      <td>22058</td>\n",
       "      <td>2015-02-24 22:55:49</td>\n",
       "      <td>2015-04-18 02:47:11</td>\n",
       "      <td>34</td>\n",
       "      <td>QVPSPJUOCKZAR</td>\n",
       "      <td>SEO</td>\n",
       "      <td>Chrome</td>\n",
       "      <td>M</td>\n",
       "      <td>39</td>\n",
       "      <td>7.327584e+08</td>\n",
       "      <td>...</td>\n",
       "      <td>3</td>\n",
       "      <td>February</td>\n",
       "      <td>Tuesday</td>\n",
       "      <td>April</td>\n",
       "      <td>Saturday</td>\n",
       "      <td>52 days 03:51:22</td>\n",
       "      <td>52</td>\n",
       "      <td>3</td>\n",
       "      <td>51</td>\n",
       "      <td>22</td>\n",
       "    </tr>\n",
       "    <tr>\n",
       "      <td>1</td>\n",
       "      <td>333320</td>\n",
       "      <td>2015-06-07 20:39:50</td>\n",
       "      <td>2015-06-08 01:38:54</td>\n",
       "      <td>16</td>\n",
       "      <td>EOGFQPIZPYXFZ</td>\n",
       "      <td>Ads</td>\n",
       "      <td>Chrome</td>\n",
       "      <td>F</td>\n",
       "      <td>53</td>\n",
       "      <td>3.503114e+08</td>\n",
       "      <td>...</td>\n",
       "      <td>1</td>\n",
       "      <td>June</td>\n",
       "      <td>Sunday</td>\n",
       "      <td>June</td>\n",
       "      <td>Monday</td>\n",
       "      <td>0 days 04:59:04</td>\n",
       "      <td>0</td>\n",
       "      <td>4</td>\n",
       "      <td>59</td>\n",
       "      <td>4</td>\n",
       "    </tr>\n",
       "    <tr>\n",
       "      <td>2</td>\n",
       "      <td>1359</td>\n",
       "      <td>2015-01-01 18:52:44</td>\n",
       "      <td>2015-01-01 18:52:45</td>\n",
       "      <td>15</td>\n",
       "      <td>YSSKYOSJHPPLJ</td>\n",
       "      <td>SEO</td>\n",
       "      <td>Opera</td>\n",
       "      <td>M</td>\n",
       "      <td>53</td>\n",
       "      <td>2.621474e+09</td>\n",
       "      <td>...</td>\n",
       "      <td>1</td>\n",
       "      <td>January</td>\n",
       "      <td>Thursday</td>\n",
       "      <td>January</td>\n",
       "      <td>Thursday</td>\n",
       "      <td>0 days 00:00:01</td>\n",
       "      <td>0</td>\n",
       "      <td>0</td>\n",
       "      <td>0</td>\n",
       "      <td>1</td>\n",
       "    </tr>\n",
       "    <tr>\n",
       "      <td>3</td>\n",
       "      <td>150084</td>\n",
       "      <td>2015-04-28 21:13:25</td>\n",
       "      <td>2015-05-04 13:54:50</td>\n",
       "      <td>44</td>\n",
       "      <td>ATGTXKYKUDUQN</td>\n",
       "      <td>SEO</td>\n",
       "      <td>Safari</td>\n",
       "      <td>M</td>\n",
       "      <td>41</td>\n",
       "      <td>3.840542e+09</td>\n",
       "      <td>...</td>\n",
       "      <td>1</td>\n",
       "      <td>April</td>\n",
       "      <td>Tuesday</td>\n",
       "      <td>May</td>\n",
       "      <td>Monday</td>\n",
       "      <td>5 days 16:41:25</td>\n",
       "      <td>5</td>\n",
       "      <td>16</td>\n",
       "      <td>41</td>\n",
       "      <td>25</td>\n",
       "    </tr>\n",
       "    <tr>\n",
       "      <td>4</td>\n",
       "      <td>221365</td>\n",
       "      <td>2015-07-21 07:09:52</td>\n",
       "      <td>2015-09-09 18:40:53</td>\n",
       "      <td>39</td>\n",
       "      <td>NAUITBZFJKHWW</td>\n",
       "      <td>Ads</td>\n",
       "      <td>Safari</td>\n",
       "      <td>M</td>\n",
       "      <td>45</td>\n",
       "      <td>4.155831e+08</td>\n",
       "      <td>...</td>\n",
       "      <td>2</td>\n",
       "      <td>July</td>\n",
       "      <td>Tuesday</td>\n",
       "      <td>September</td>\n",
       "      <td>Wednesday</td>\n",
       "      <td>50 days 11:31:01</td>\n",
       "      <td>50</td>\n",
       "      <td>11</td>\n",
       "      <td>31</td>\n",
       "      <td>1</td>\n",
       "    </tr>\n",
       "  </tbody>\n",
       "</table>\n",
       "<p>5 rows × 27 columns</p>\n",
       "</div>"
      ],
      "text/plain": [
       "   user_id         signup_time       purchase_time  purchase_value  \\\n",
       "0    22058 2015-02-24 22:55:49 2015-04-18 02:47:11              34   \n",
       "1   333320 2015-06-07 20:39:50 2015-06-08 01:38:54              16   \n",
       "2     1359 2015-01-01 18:52:44 2015-01-01 18:52:45              15   \n",
       "3   150084 2015-04-28 21:13:25 2015-05-04 13:54:50              44   \n",
       "4   221365 2015-07-21 07:09:52 2015-09-09 18:40:53              39   \n",
       "\n",
       "       device_id source browser sex  age    ip_address  ...  \\\n",
       "0  QVPSPJUOCKZAR    SEO  Chrome   M   39  7.327584e+08  ...   \n",
       "1  EOGFQPIZPYXFZ    Ads  Chrome   F   53  3.503114e+08  ...   \n",
       "2  YSSKYOSJHPPLJ    SEO   Opera   M   53  2.621474e+09  ...   \n",
       "3  ATGTXKYKUDUQN    SEO  Safari   M   41  3.840542e+09  ...   \n",
       "4  NAUITBZFJKHWW    Ads  Safari   M   45  4.155831e+08  ...   \n",
       "\n",
       "   week_of_purchased signup_MONTH signup_DAY purchase_MONTH purchase_DAY  \\\n",
       "0                  3     February    Tuesday          April     Saturday   \n",
       "1                  1         June     Sunday           June       Monday   \n",
       "2                  1      January   Thursday        January     Thursday   \n",
       "3                  1        April    Tuesday            May       Monday   \n",
       "4                  2         July    Tuesday      September    Wednesday   \n",
       "\n",
       "  time_to_purchase  day_to_purchase  hours_to_purchase minutes_to_purchase  \\\n",
       "0 52 days 03:51:22               52                  3                  51   \n",
       "1  0 days 04:59:04                0                  4                  59   \n",
       "2  0 days 00:00:01                0                  0                   0   \n",
       "3  5 days 16:41:25                5                 16                  41   \n",
       "4 50 days 11:31:01               50                 11                  31   \n",
       "\n",
       "  second_to_purchase  \n",
       "0                 22  \n",
       "1                  4  \n",
       "2                  1  \n",
       "3                 25  \n",
       "4                  1  \n",
       "\n",
       "[5 rows x 27 columns]"
      ]
     },
     "execution_count": 8,
     "metadata": {},
     "output_type": "execute_result"
    }
   ],
   "source": [
    "df.head()"
   ]
  },
  {
   "cell_type": "code",
   "execution_count": 61,
   "metadata": {
    "colab": {},
    "colab_type": "code",
    "id": "s_1oRBLK-zUJ"
   },
   "outputs": [],
   "source": [
    "#convert to datetime\n",
    "df['signup_time']=pd.to_datetime(df['signup_time'])\n",
    "df['purchase_time']=pd.to_datetime(df['purchase_time'])"
   ]
  },
  {
   "cell_type": "code",
   "execution_count": 62,
   "metadata": {
    "colab": {},
    "colab_type": "code",
    "id": "i3-zVdlt-zJe"
   },
   "outputs": [],
   "source": [
    "# add new columns\n",
    "df['signup_date'] = df['signup_time'].apply(lambda x : x.strftime('%d/%m/%Y'))\n",
    "df['signup_hour'] = df['signup_time'].apply(lambda x : x.strftime('%H:%M:%S'))\n",
    "\n",
    "df['purchase_date'] = df['purchase_time'].apply(lambda x : x.strftime('%d/%m/%Y'))\n",
    "df['purchase_hour'] = df['purchase_time'].apply(lambda x : x.strftime('%H:%M:%S'))\n",
    "\n",
    "df[\"day_of_purchased\"] = df[\"purchase_time\"].map(lambda d: d.day)\n",
    "df[\"week_of_purchased\"] = [int((jour-1)*4/31)+1 for jour in df[\"day_of_purchased\"]]"
   ]
  },
  {
   "cell_type": "code",
   "execution_count": 63,
   "metadata": {
    "colab": {},
    "colab_type": "code",
    "id": "d6yL0zYK8Kco"
   },
   "outputs": [],
   "source": [
    "df['signup_MONTH'] = df['signup_time'].apply(lambda x : x.strftime('%B'))\n",
    "df['signup_DAY'] = df['signup_time'].apply(lambda x : x.strftime('%A'))\n",
    "\n",
    "df['purchase_MONTH'] = df['purchase_time'].apply(lambda x : x.strftime('%B'))\n",
    "df['purchase_DAY'] = df['purchase_time'].apply(lambda x : x.strftime('%A'))"
   ]
  },
  {
   "cell_type": "code",
   "execution_count": 64,
   "metadata": {
    "colab": {},
    "colab_type": "code",
    "id": "Vf65SRTY8KgS"
   },
   "outputs": [],
   "source": [
    "#add columns \n",
    "df['time_to_purchase'] = (df['purchase_time'] - df['signup_time'])\n",
    "df['day_to_purchase'] = df['time_to_purchase'].apply(lambda x : x.days)"
   ]
  },
  {
   "cell_type": "code",
   "execution_count": 65,
   "metadata": {
    "colab": {},
    "colab_type": "code",
    "id": "wbTK9Z2J8Kjo"
   },
   "outputs": [],
   "source": [
    "#function to extract h/m/s from timedelta format ('52 days 03:51:22') and create new features\n",
    "def extract_hours(x):\n",
    "    days = x.days\n",
    "    hours, remainder = divmod(x.seconds, 3600)\n",
    "    minutes, seconds = divmod(remainder, 60)\n",
    "    return hours\n",
    "def extract_minutes(x):\n",
    "    days = x.days\n",
    "    hours, remainder = divmod(x.seconds, 3600)\n",
    "    minutes, seconds = divmod(remainder, 60)\n",
    "    return minutes\n",
    "def extract_seconds(x):\n",
    "    days = x.days\n",
    "    #hours, remainder = divmod(a.seconds, 3600)\n",
    "    hours, remainder = divmod(x.seconds, 3600)\n",
    "    minutes, seconds = divmod(remainder, 60)\n",
    "    return seconds\n",
    "\n",
    "df['hours_to_purchase'] = df['time_to_purchase'].apply(lambda x : extract_hours(x))\n",
    "df['minutes_to_purchase'] = df['time_to_purchase'].apply(lambda x : extract_minutes(x))\n",
    "df['second_to_purchase'] = df['time_to_purchase'].apply(lambda x : extract_seconds(x))"
   ]
  },
  {
   "cell_type": "markdown",
   "metadata": {},
   "source": [
    "Some purchases are made in less than a second, probably by robots."
   ]
  },
  {
   "cell_type": "code",
   "execution_count": 66,
   "metadata": {},
   "outputs": [
    {
     "data": {
      "text/html": [
       "<div>\n",
       "<style scoped>\n",
       "    .dataframe tbody tr th:only-of-type {\n",
       "        vertical-align: middle;\n",
       "    }\n",
       "\n",
       "    .dataframe tbody tr th {\n",
       "        vertical-align: top;\n",
       "    }\n",
       "\n",
       "    .dataframe thead th {\n",
       "        text-align: right;\n",
       "    }\n",
       "</style>\n",
       "<table border=\"1\" class=\"dataframe\">\n",
       "  <thead>\n",
       "    <tr style=\"text-align: right;\">\n",
       "      <th></th>\n",
       "      <th>user_id</th>\n",
       "      <th>signup_time</th>\n",
       "      <th>purchase_time</th>\n",
       "      <th>purchase_value</th>\n",
       "      <th>device_id</th>\n",
       "      <th>source</th>\n",
       "      <th>browser</th>\n",
       "      <th>sex</th>\n",
       "      <th>age</th>\n",
       "      <th>ip_address</th>\n",
       "      <th>...</th>\n",
       "      <th>week_of_purchased</th>\n",
       "      <th>signup_MONTH</th>\n",
       "      <th>signup_DAY</th>\n",
       "      <th>purchase_MONTH</th>\n",
       "      <th>purchase_DAY</th>\n",
       "      <th>time_to_purchase</th>\n",
       "      <th>day_to_purchase</th>\n",
       "      <th>hours_to_purchase</th>\n",
       "      <th>minutes_to_purchase</th>\n",
       "      <th>second_to_purchase</th>\n",
       "    </tr>\n",
       "  </thead>\n",
       "  <tbody>\n",
       "    <tr>\n",
       "      <td>0</td>\n",
       "      <td>22058</td>\n",
       "      <td>2015-02-24 22:55:49</td>\n",
       "      <td>2015-04-18 02:47:11</td>\n",
       "      <td>34</td>\n",
       "      <td>QVPSPJUOCKZAR</td>\n",
       "      <td>SEO</td>\n",
       "      <td>Chrome</td>\n",
       "      <td>M</td>\n",
       "      <td>39</td>\n",
       "      <td>7.327584e+08</td>\n",
       "      <td>...</td>\n",
       "      <td>3</td>\n",
       "      <td>February</td>\n",
       "      <td>Tuesday</td>\n",
       "      <td>April</td>\n",
       "      <td>Saturday</td>\n",
       "      <td>52 days 03:51:22</td>\n",
       "      <td>52</td>\n",
       "      <td>3</td>\n",
       "      <td>51</td>\n",
       "      <td>22</td>\n",
       "    </tr>\n",
       "    <tr>\n",
       "      <td>1</td>\n",
       "      <td>333320</td>\n",
       "      <td>2015-06-07 20:39:50</td>\n",
       "      <td>2015-06-08 01:38:54</td>\n",
       "      <td>16</td>\n",
       "      <td>EOGFQPIZPYXFZ</td>\n",
       "      <td>Ads</td>\n",
       "      <td>Chrome</td>\n",
       "      <td>F</td>\n",
       "      <td>53</td>\n",
       "      <td>3.503114e+08</td>\n",
       "      <td>...</td>\n",
       "      <td>1</td>\n",
       "      <td>June</td>\n",
       "      <td>Sunday</td>\n",
       "      <td>June</td>\n",
       "      <td>Monday</td>\n",
       "      <td>0 days 04:59:04</td>\n",
       "      <td>0</td>\n",
       "      <td>4</td>\n",
       "      <td>59</td>\n",
       "      <td>4</td>\n",
       "    </tr>\n",
       "    <tr>\n",
       "      <td>2</td>\n",
       "      <td>1359</td>\n",
       "      <td>2015-01-01 18:52:44</td>\n",
       "      <td>2015-01-01 18:52:45</td>\n",
       "      <td>15</td>\n",
       "      <td>YSSKYOSJHPPLJ</td>\n",
       "      <td>SEO</td>\n",
       "      <td>Opera</td>\n",
       "      <td>M</td>\n",
       "      <td>53</td>\n",
       "      <td>2.621474e+09</td>\n",
       "      <td>...</td>\n",
       "      <td>1</td>\n",
       "      <td>January</td>\n",
       "      <td>Thursday</td>\n",
       "      <td>January</td>\n",
       "      <td>Thursday</td>\n",
       "      <td>0 days 00:00:01</td>\n",
       "      <td>0</td>\n",
       "      <td>0</td>\n",
       "      <td>0</td>\n",
       "      <td>1</td>\n",
       "    </tr>\n",
       "  </tbody>\n",
       "</table>\n",
       "<p>3 rows × 27 columns</p>\n",
       "</div>"
      ],
      "text/plain": [
       "   user_id         signup_time       purchase_time  purchase_value  \\\n",
       "0    22058 2015-02-24 22:55:49 2015-04-18 02:47:11              34   \n",
       "1   333320 2015-06-07 20:39:50 2015-06-08 01:38:54              16   \n",
       "2     1359 2015-01-01 18:52:44 2015-01-01 18:52:45              15   \n",
       "\n",
       "       device_id source browser sex  age    ip_address  ...  \\\n",
       "0  QVPSPJUOCKZAR    SEO  Chrome   M   39  7.327584e+08  ...   \n",
       "1  EOGFQPIZPYXFZ    Ads  Chrome   F   53  3.503114e+08  ...   \n",
       "2  YSSKYOSJHPPLJ    SEO   Opera   M   53  2.621474e+09  ...   \n",
       "\n",
       "   week_of_purchased signup_MONTH signup_DAY purchase_MONTH purchase_DAY  \\\n",
       "0                  3     February    Tuesday          April     Saturday   \n",
       "1                  1         June     Sunday           June       Monday   \n",
       "2                  1      January   Thursday        January     Thursday   \n",
       "\n",
       "  time_to_purchase  day_to_purchase  hours_to_purchase minutes_to_purchase  \\\n",
       "0 52 days 03:51:22               52                  3                  51   \n",
       "1  0 days 04:59:04                0                  4                  59   \n",
       "2  0 days 00:00:01                0                  0                   0   \n",
       "\n",
       "  second_to_purchase  \n",
       "0                 22  \n",
       "1                  4  \n",
       "2                  1  \n",
       "\n",
       "[3 rows x 27 columns]"
      ]
     },
     "execution_count": 66,
     "metadata": {},
     "output_type": "execute_result"
    }
   ],
   "source": [
    "df.head(3)"
   ]
  },
  {
   "cell_type": "code",
   "execution_count": 67,
   "metadata": {
    "colab": {
     "base_uri": "https://localhost:8080/",
     "height": 309
    },
    "colab_type": "code",
    "id": "D8RmZr9zUBiX",
    "outputId": "b77b13b7-5e0b-49d1-c985-d4a7edcda9c9"
   },
   "outputs": [
    {
     "data": {
      "text/plain": [
       "0   52 days 03:51:22\n",
       "1    0 days 04:59:04\n",
       "2    0 days 00:00:01\n",
       "3    5 days 16:41:25\n",
       "4   50 days 11:31:01\n",
       "Name: time_to_purchase, dtype: timedelta64[ns]"
      ]
     },
     "execution_count": 67,
     "metadata": {},
     "output_type": "execute_result"
    }
   ],
   "source": [
    "df.head()['time_to_purchase']"
   ]
  },
  {
   "cell_type": "code",
   "execution_count": 68,
   "metadata": {
    "colab": {},
    "colab_type": "code",
    "id": "VPJprxQ3VCIc"
   },
   "outputs": [],
   "source": [
    "#add column if it's to speed for purchase\n",
    "df['to_speed_for_purchase'] = df.apply(lambda row: 1 if row['hours_to_purchase']==0 and\n",
    "                                       row['minutes_to_purchase']<1 and\n",
    "                                       row['day_to_purchase']<1 and\n",
    "                                       row['second_to_purchase']<2\n",
    "                                    else 0, axis=1)"
   ]
  },
  {
   "cell_type": "code",
   "execution_count": 69,
   "metadata": {
    "colab": {
     "base_uri": "https://localhost:8080/",
     "height": 34
    },
    "colab_type": "code",
    "id": "1Upjxz0LVK4n",
    "outputId": "6fd26d8a-f70b-47d4-ac35-8ed1aaeff40d"
   },
   "outputs": [
    {
     "name": "stdout",
     "output_type": "stream",
     "text": [
      "The percentage of fraud of what we identified as robots is equal to 100%\n"
     ]
    }
   ],
   "source": [
    "fraudulent = (df[df['to_speed_for_purchase'] == 1]['class'].value_counts()/len(df[df['to_speed_for_purchase'] == 1]))*100\n",
    "print(\"The percentage of fraud of what we identified as robots is equal to {}%\".format(int(fraudulent[1])))"
   ]
  },
  {
   "cell_type": "markdown",
   "metadata": {},
   "source": [
    "There was a spike in fraudulent purchases in January"
   ]
  },
  {
   "cell_type": "code",
   "execution_count": 70,
   "metadata": {
    "colab": {
     "base_uri": "https://localhost:8080/",
     "height": 763
    },
    "colab_type": "code",
    "id": "n_hl8qMNAkjZ",
    "outputId": "44d7c19d-8d06-423a-cb37-07f8bfd8ef4c"
   },
   "outputs": [
    {
     "data": {
      "image/png": "[encoded data removed]",
      "text/plain": [
       "<Figure size 1152x432 with 1 Axes>"
      ]
     },
     "metadata": {
      "needs_background": "light"
     },
     "output_type": "display_data"
    },
    {
     "data": {
      "image/png": "[encoded data removed]",
      "text/plain": [
       "<Figure size 1152x432 with 1 Axes>"
      ]
     },
     "metadata": {
      "needs_background": "light"
     },
     "output_type": "display_data"
    }
   ],
   "source": [
    "plt.figure(figsize = (16,6))\n",
    "sns.barplot(x=\"purchase_MONTH\", y=\"class\", hue = 'source',  data=df);\n",
    "plt.title('Probabilty of fraud by month - Purchase MONTH')\n",
    "plt.xlabel('');\n",
    "plt.ylabel('');\n",
    "plt.show()\n",
    "## not the same with signup MONTH\n",
    "plt.figure(figsize = (16,6))\n",
    "sns.barplot(x=\"signup_MONTH\", y=\"class\", hue = 'source',  data=df);\n",
    "plt.title('Probabilty of fraud by month - Signup Month')\n",
    "plt.xlabel('');\n",
    "plt.ylabel('');"
   ]
  },
  {
   "cell_type": "code",
   "execution_count": 71,
   "metadata": {
    "colab": {},
    "colab_type": "code",
    "id": "TINsEft_kBgO"
   },
   "outputs": [],
   "source": [
    "# Identify if the purchase took place in January\n",
    "df['January'] = df['purchase_MONTH'].apply(lambda x : 1 if x == 'January' else 0)"
   ]
  },
  {
   "cell_type": "markdown",
   "metadata": {},
   "source": [
    "### Device"
   ]
  },
  {
   "cell_type": "code",
   "execution_count": 74,
   "metadata": {
    "colab": {
     "base_uri": "https://localhost:8080/",
     "height": 609
    },
    "colab_type": "code",
    "id": "OQRsZQc9_PqC",
    "outputId": "762d49fd-a975-4d3d-8e2e-ce4e7fd3e04a"
   },
   "outputs": [],
   "source": [
    "# add a columns that count device apparition\n",
    "device_nb = pd.DataFrame({'count' :df.device_id.value_counts()})\n",
    "device_nb['device_id'] = device_nb.index\n",
    "df = df.merge(device_nb, on='device_id', how='left')\n",
    "df.rename(columns={'count':'Device_apparition'}, inplace = True)"
   ]
  },
  {
   "cell_type": "code",
   "execution_count": 75,
   "metadata": {},
   "outputs": [
    {
     "data": {
      "text/html": [
       "<div>\n",
       "<style scoped>\n",
       "    .dataframe tbody tr th:only-of-type {\n",
       "        vertical-align: middle;\n",
       "    }\n",
       "\n",
       "    .dataframe tbody tr th {\n",
       "        vertical-align: top;\n",
       "    }\n",
       "\n",
       "    .dataframe thead th {\n",
       "        text-align: right;\n",
       "    }\n",
       "</style>\n",
       "<table border=\"1\" class=\"dataframe\">\n",
       "  <thead>\n",
       "    <tr style=\"text-align: right;\">\n",
       "      <th></th>\n",
       "      <th>user_id</th>\n",
       "      <th>signup_time</th>\n",
       "      <th>purchase_time</th>\n",
       "      <th>purchase_value</th>\n",
       "      <th>device_id</th>\n",
       "      <th>source</th>\n",
       "      <th>browser</th>\n",
       "      <th>sex</th>\n",
       "      <th>age</th>\n",
       "      <th>ip_address</th>\n",
       "      <th>...</th>\n",
       "      <th>purchase_MONTH</th>\n",
       "      <th>purchase_DAY</th>\n",
       "      <th>time_to_purchase</th>\n",
       "      <th>day_to_purchase</th>\n",
       "      <th>hours_to_purchase</th>\n",
       "      <th>minutes_to_purchase</th>\n",
       "      <th>second_to_purchase</th>\n",
       "      <th>to_speed_for_purchase</th>\n",
       "      <th>January</th>\n",
       "      <th>Device_apparition</th>\n",
       "    </tr>\n",
       "  </thead>\n",
       "  <tbody>\n",
       "    <tr>\n",
       "      <td>0</td>\n",
       "      <td>22058</td>\n",
       "      <td>2015-02-24 22:55:49</td>\n",
       "      <td>2015-04-18 02:47:11</td>\n",
       "      <td>34</td>\n",
       "      <td>QVPSPJUOCKZAR</td>\n",
       "      <td>SEO</td>\n",
       "      <td>Chrome</td>\n",
       "      <td>M</td>\n",
       "      <td>39</td>\n",
       "      <td>7.327584e+08</td>\n",
       "      <td>...</td>\n",
       "      <td>April</td>\n",
       "      <td>Saturday</td>\n",
       "      <td>52 days 03:51:22</td>\n",
       "      <td>52</td>\n",
       "      <td>3</td>\n",
       "      <td>51</td>\n",
       "      <td>22</td>\n",
       "      <td>0</td>\n",
       "      <td>0</td>\n",
       "      <td>1</td>\n",
       "    </tr>\n",
       "    <tr>\n",
       "      <td>1</td>\n",
       "      <td>333320</td>\n",
       "      <td>2015-06-07 20:39:50</td>\n",
       "      <td>2015-06-08 01:38:54</td>\n",
       "      <td>16</td>\n",
       "      <td>EOGFQPIZPYXFZ</td>\n",
       "      <td>Ads</td>\n",
       "      <td>Chrome</td>\n",
       "      <td>F</td>\n",
       "      <td>53</td>\n",
       "      <td>3.503114e+08</td>\n",
       "      <td>...</td>\n",
       "      <td>June</td>\n",
       "      <td>Monday</td>\n",
       "      <td>0 days 04:59:04</td>\n",
       "      <td>0</td>\n",
       "      <td>4</td>\n",
       "      <td>59</td>\n",
       "      <td>4</td>\n",
       "      <td>0</td>\n",
       "      <td>0</td>\n",
       "      <td>1</td>\n",
       "    </tr>\n",
       "    <tr>\n",
       "      <td>2</td>\n",
       "      <td>1359</td>\n",
       "      <td>2015-01-01 18:52:44</td>\n",
       "      <td>2015-01-01 18:52:45</td>\n",
       "      <td>15</td>\n",
       "      <td>YSSKYOSJHPPLJ</td>\n",
       "      <td>SEO</td>\n",
       "      <td>Opera</td>\n",
       "      <td>M</td>\n",
       "      <td>53</td>\n",
       "      <td>2.621474e+09</td>\n",
       "      <td>...</td>\n",
       "      <td>January</td>\n",
       "      <td>Thursday</td>\n",
       "      <td>0 days 00:00:01</td>\n",
       "      <td>0</td>\n",
       "      <td>0</td>\n",
       "      <td>0</td>\n",
       "      <td>1</td>\n",
       "      <td>1</td>\n",
       "      <td>1</td>\n",
       "      <td>12</td>\n",
       "    </tr>\n",
       "    <tr>\n",
       "      <td>3</td>\n",
       "      <td>150084</td>\n",
       "      <td>2015-04-28 21:13:25</td>\n",
       "      <td>2015-05-04 13:54:50</td>\n",
       "      <td>44</td>\n",
       "      <td>ATGTXKYKUDUQN</td>\n",
       "      <td>SEO</td>\n",
       "      <td>Safari</td>\n",
       "      <td>M</td>\n",
       "      <td>41</td>\n",
       "      <td>3.840542e+09</td>\n",
       "      <td>...</td>\n",
       "      <td>May</td>\n",
       "      <td>Monday</td>\n",
       "      <td>5 days 16:41:25</td>\n",
       "      <td>5</td>\n",
       "      <td>16</td>\n",
       "      <td>41</td>\n",
       "      <td>25</td>\n",
       "      <td>0</td>\n",
       "      <td>0</td>\n",
       "      <td>1</td>\n",
       "    </tr>\n",
       "    <tr>\n",
       "      <td>4</td>\n",
       "      <td>221365</td>\n",
       "      <td>2015-07-21 07:09:52</td>\n",
       "      <td>2015-09-09 18:40:53</td>\n",
       "      <td>39</td>\n",
       "      <td>NAUITBZFJKHWW</td>\n",
       "      <td>Ads</td>\n",
       "      <td>Safari</td>\n",
       "      <td>M</td>\n",
       "      <td>45</td>\n",
       "      <td>4.155831e+08</td>\n",
       "      <td>...</td>\n",
       "      <td>September</td>\n",
       "      <td>Wednesday</td>\n",
       "      <td>50 days 11:31:01</td>\n",
       "      <td>50</td>\n",
       "      <td>11</td>\n",
       "      <td>31</td>\n",
       "      <td>1</td>\n",
       "      <td>0</td>\n",
       "      <td>0</td>\n",
       "      <td>1</td>\n",
       "    </tr>\n",
       "  </tbody>\n",
       "</table>\n",
       "<p>5 rows × 30 columns</p>\n",
       "</div>"
      ],
      "text/plain": [
       "   user_id         signup_time       purchase_time  purchase_value  \\\n",
       "0    22058 2015-02-24 22:55:49 2015-04-18 02:47:11              34   \n",
       "1   333320 2015-06-07 20:39:50 2015-06-08 01:38:54              16   \n",
       "2     1359 2015-01-01 18:52:44 2015-01-01 18:52:45              15   \n",
       "3   150084 2015-04-28 21:13:25 2015-05-04 13:54:50              44   \n",
       "4   221365 2015-07-21 07:09:52 2015-09-09 18:40:53              39   \n",
       "\n",
       "       device_id source browser sex  age    ip_address  ...  purchase_MONTH  \\\n",
       "0  QVPSPJUOCKZAR    SEO  Chrome   M   39  7.327584e+08  ...           April   \n",
       "1  EOGFQPIZPYXFZ    Ads  Chrome   F   53  3.503114e+08  ...            June   \n",
       "2  YSSKYOSJHPPLJ    SEO   Opera   M   53  2.621474e+09  ...         January   \n",
       "3  ATGTXKYKUDUQN    SEO  Safari   M   41  3.840542e+09  ...             May   \n",
       "4  NAUITBZFJKHWW    Ads  Safari   M   45  4.155831e+08  ...       September   \n",
       "\n",
       "  purchase_DAY time_to_purchase day_to_purchase hours_to_purchase  \\\n",
       "0     Saturday 52 days 03:51:22              52                 3   \n",
       "1       Monday  0 days 04:59:04               0                 4   \n",
       "2     Thursday  0 days 00:00:01               0                 0   \n",
       "3       Monday  5 days 16:41:25               5                16   \n",
       "4    Wednesday 50 days 11:31:01              50                11   \n",
       "\n",
       "  minutes_to_purchase  second_to_purchase  to_speed_for_purchase January  \\\n",
       "0                  51                  22                      0       0   \n",
       "1                  59                   4                      0       0   \n",
       "2                   0                   1                      1       1   \n",
       "3                  41                  25                      0       0   \n",
       "4                  31                   1                      0       0   \n",
       "\n",
       "  Device_apparition  \n",
       "0                 1  \n",
       "1                 1  \n",
       "2                12  \n",
       "3                 1  \n",
       "4                 1  \n",
       "\n",
       "[5 rows x 30 columns]"
      ]
     },
     "execution_count": 75,
     "metadata": {},
     "output_type": "execute_result"
    }
   ],
   "source": [
    "df.head()"
   ]
  },
  {
   "cell_type": "code",
   "execution_count": 76,
   "metadata": {
    "colab": {
     "base_uri": "https://localhost:8080/",
     "height": 419
    },
    "colab_type": "code",
    "id": "tgOmeVsdhHBF",
    "outputId": "bb76443e-6cff-4cb4-aecd-0b9c4fc6f569"
   },
   "outputs": [
    {
     "data": {
      "text/html": [
       "<div>\n",
       "<style scoped>\n",
       "    .dataframe tbody tr th:only-of-type {\n",
       "        vertical-align: middle;\n",
       "    }\n",
       "\n",
       "    .dataframe tbody tr th {\n",
       "        vertical-align: top;\n",
       "    }\n",
       "\n",
       "    .dataframe thead th {\n",
       "        text-align: right;\n",
       "    }\n",
       "</style>\n",
       "<table border=\"1\" class=\"dataframe\">\n",
       "  <thead>\n",
       "    <tr style=\"text-align: right;\">\n",
       "      <th></th>\n",
       "      <th>count</th>\n",
       "      <th>device_id</th>\n",
       "    </tr>\n",
       "  </thead>\n",
       "  <tbody>\n",
       "    <tr>\n",
       "      <td>CQTUVBYIWWWBC</td>\n",
       "      <td>20</td>\n",
       "      <td>CQTUVBYIWWWBC</td>\n",
       "    </tr>\n",
       "    <tr>\n",
       "      <td>NGQCKIADMZORL</td>\n",
       "      <td>20</td>\n",
       "      <td>NGQCKIADMZORL</td>\n",
       "    </tr>\n",
       "    <tr>\n",
       "      <td>ITUMJCKWEYNDD</td>\n",
       "      <td>20</td>\n",
       "      <td>ITUMJCKWEYNDD</td>\n",
       "    </tr>\n",
       "    <tr>\n",
       "      <td>EQYVNEGOFLAWK</td>\n",
       "      <td>20</td>\n",
       "      <td>EQYVNEGOFLAWK</td>\n",
       "    </tr>\n",
       "    <tr>\n",
       "      <td>KIPFSCNUGOLDP</td>\n",
       "      <td>20</td>\n",
       "      <td>KIPFSCNUGOLDP</td>\n",
       "    </tr>\n",
       "    <tr>\n",
       "      <td>...</td>\n",
       "      <td>...</td>\n",
       "      <td>...</td>\n",
       "    </tr>\n",
       "    <tr>\n",
       "      <td>QCTWHJRGWLDZQ</td>\n",
       "      <td>1</td>\n",
       "      <td>QCTWHJRGWLDZQ</td>\n",
       "    </tr>\n",
       "    <tr>\n",
       "      <td>AGSKUOJNJQGYC</td>\n",
       "      <td>1</td>\n",
       "      <td>AGSKUOJNJQGYC</td>\n",
       "    </tr>\n",
       "    <tr>\n",
       "      <td>UWJAELNETODCP</td>\n",
       "      <td>1</td>\n",
       "      <td>UWJAELNETODCP</td>\n",
       "    </tr>\n",
       "    <tr>\n",
       "      <td>EAZCUGIUQQEAO</td>\n",
       "      <td>1</td>\n",
       "      <td>EAZCUGIUQQEAO</td>\n",
       "    </tr>\n",
       "    <tr>\n",
       "      <td>XORGXPQKGLWTD</td>\n",
       "      <td>1</td>\n",
       "      <td>XORGXPQKGLWTD</td>\n",
       "    </tr>\n",
       "  </tbody>\n",
       "</table>\n",
       "<p>137956 rows × 2 columns</p>\n",
       "</div>"
      ],
      "text/plain": [
       "               count      device_id\n",
       "CQTUVBYIWWWBC     20  CQTUVBYIWWWBC\n",
       "NGQCKIADMZORL     20  NGQCKIADMZORL\n",
       "ITUMJCKWEYNDD     20  ITUMJCKWEYNDD\n",
       "EQYVNEGOFLAWK     20  EQYVNEGOFLAWK\n",
       "KIPFSCNUGOLDP     20  KIPFSCNUGOLDP\n",
       "...              ...            ...\n",
       "QCTWHJRGWLDZQ      1  QCTWHJRGWLDZQ\n",
       "AGSKUOJNJQGYC      1  AGSKUOJNJQGYC\n",
       "UWJAELNETODCP      1  UWJAELNETODCP\n",
       "EAZCUGIUQQEAO      1  EAZCUGIUQQEAO\n",
       "XORGXPQKGLWTD      1  XORGXPQKGLWTD\n",
       "\n",
       "[137956 rows x 2 columns]"
      ]
     },
     "execution_count": 76,
     "metadata": {},
     "output_type": "execute_result"
    }
   ],
   "source": [
    "device_nb"
   ]
  },
  {
   "cell_type": "code",
   "execution_count": 77,
   "metadata": {
    "colab": {
     "base_uri": "https://localhost:8080/",
     "height": 669
    },
    "colab_type": "code",
    "id": "xc4t41tVffCP",
    "outputId": "bb28fb09-dfe9-4873-eab4-08f4eba876ed"
   },
   "outputs": [
    {
     "data": {
      "text/html": [
       "<div>\n",
       "<style scoped>\n",
       "    .dataframe tbody tr th:only-of-type {\n",
       "        vertical-align: middle;\n",
       "    }\n",
       "\n",
       "    .dataframe tbody tr th {\n",
       "        vertical-align: top;\n",
       "    }\n",
       "\n",
       "    .dataframe thead th {\n",
       "        text-align: right;\n",
       "    }\n",
       "</style>\n",
       "<table border=\"1\" class=\"dataframe\">\n",
       "  <thead>\n",
       "    <tr style=\"text-align: right;\">\n",
       "      <th></th>\n",
       "      <th>purchase_MONTH</th>\n",
       "      <th>time_to_purchase</th>\n",
       "      <th>class</th>\n",
       "    </tr>\n",
       "  </thead>\n",
       "  <tbody>\n",
       "    <tr>\n",
       "      <td>9679</td>\n",
       "      <td>January</td>\n",
       "      <td>0 days 00:00:01</td>\n",
       "      <td>1</td>\n",
       "    </tr>\n",
       "    <tr>\n",
       "      <td>22782</td>\n",
       "      <td>January</td>\n",
       "      <td>0 days 00:00:01</td>\n",
       "      <td>1</td>\n",
       "    </tr>\n",
       "    <tr>\n",
       "      <td>27520</td>\n",
       "      <td>January</td>\n",
       "      <td>0 days 00:00:01</td>\n",
       "      <td>1</td>\n",
       "    </tr>\n",
       "    <tr>\n",
       "      <td>33712</td>\n",
       "      <td>January</td>\n",
       "      <td>0 days 00:00:01</td>\n",
       "      <td>1</td>\n",
       "    </tr>\n",
       "    <tr>\n",
       "      <td>43697</td>\n",
       "      <td>January</td>\n",
       "      <td>0 days 00:00:01</td>\n",
       "      <td>1</td>\n",
       "    </tr>\n",
       "    <tr>\n",
       "      <td>51626</td>\n",
       "      <td>January</td>\n",
       "      <td>0 days 00:00:01</td>\n",
       "      <td>1</td>\n",
       "    </tr>\n",
       "    <tr>\n",
       "      <td>55085</td>\n",
       "      <td>January</td>\n",
       "      <td>0 days 00:00:01</td>\n",
       "      <td>1</td>\n",
       "    </tr>\n",
       "    <tr>\n",
       "      <td>57766</td>\n",
       "      <td>January</td>\n",
       "      <td>0 days 00:00:01</td>\n",
       "      <td>1</td>\n",
       "    </tr>\n",
       "    <tr>\n",
       "      <td>59817</td>\n",
       "      <td>January</td>\n",
       "      <td>0 days 00:00:01</td>\n",
       "      <td>1</td>\n",
       "    </tr>\n",
       "    <tr>\n",
       "      <td>61092</td>\n",
       "      <td>January</td>\n",
       "      <td>0 days 00:00:01</td>\n",
       "      <td>1</td>\n",
       "    </tr>\n",
       "    <tr>\n",
       "      <td>79733</td>\n",
       "      <td>January</td>\n",
       "      <td>0 days 00:00:01</td>\n",
       "      <td>1</td>\n",
       "    </tr>\n",
       "    <tr>\n",
       "      <td>83664</td>\n",
       "      <td>January</td>\n",
       "      <td>0 days 00:00:01</td>\n",
       "      <td>1</td>\n",
       "    </tr>\n",
       "    <tr>\n",
       "      <td>110759</td>\n",
       "      <td>January</td>\n",
       "      <td>0 days 00:00:01</td>\n",
       "      <td>1</td>\n",
       "    </tr>\n",
       "    <tr>\n",
       "      <td>117048</td>\n",
       "      <td>January</td>\n",
       "      <td>0 days 00:00:01</td>\n",
       "      <td>1</td>\n",
       "    </tr>\n",
       "    <tr>\n",
       "      <td>121787</td>\n",
       "      <td>January</td>\n",
       "      <td>0 days 00:00:01</td>\n",
       "      <td>1</td>\n",
       "    </tr>\n",
       "    <tr>\n",
       "      <td>123442</td>\n",
       "      <td>January</td>\n",
       "      <td>0 days 00:00:01</td>\n",
       "      <td>1</td>\n",
       "    </tr>\n",
       "    <tr>\n",
       "      <td>126392</td>\n",
       "      <td>January</td>\n",
       "      <td>0 days 00:00:01</td>\n",
       "      <td>1</td>\n",
       "    </tr>\n",
       "    <tr>\n",
       "      <td>144935</td>\n",
       "      <td>January</td>\n",
       "      <td>0 days 00:00:01</td>\n",
       "      <td>1</td>\n",
       "    </tr>\n",
       "    <tr>\n",
       "      <td>146768</td>\n",
       "      <td>March</td>\n",
       "      <td>81 days 20:58:48</td>\n",
       "      <td>0</td>\n",
       "    </tr>\n",
       "    <tr>\n",
       "      <td>149388</td>\n",
       "      <td>January</td>\n",
       "      <td>0 days 00:00:01</td>\n",
       "      <td>1</td>\n",
       "    </tr>\n",
       "  </tbody>\n",
       "</table>\n",
       "</div>"
      ],
      "text/plain": [
       "       purchase_MONTH time_to_purchase  class\n",
       "9679          January  0 days 00:00:01      1\n",
       "22782         January  0 days 00:00:01      1\n",
       "27520         January  0 days 00:00:01      1\n",
       "33712         January  0 days 00:00:01      1\n",
       "43697         January  0 days 00:00:01      1\n",
       "51626         January  0 days 00:00:01      1\n",
       "55085         January  0 days 00:00:01      1\n",
       "57766         January  0 days 00:00:01      1\n",
       "59817         January  0 days 00:00:01      1\n",
       "61092         January  0 days 00:00:01      1\n",
       "79733         January  0 days 00:00:01      1\n",
       "83664         January  0 days 00:00:01      1\n",
       "110759        January  0 days 00:00:01      1\n",
       "117048        January  0 days 00:00:01      1\n",
       "121787        January  0 days 00:00:01      1\n",
       "123442        January  0 days 00:00:01      1\n",
       "126392        January  0 days 00:00:01      1\n",
       "144935        January  0 days 00:00:01      1\n",
       "146768          March 81 days 20:58:48      0\n",
       "149388        January  0 days 00:00:01      1"
      ]
     },
     "execution_count": 77,
     "metadata": {},
     "output_type": "execute_result"
    }
   ],
   "source": [
    "# Take a look at one device, we can see this is a fraudulous one\n",
    "## maybe there's even a case of fraud that went undetected?\n",
    "df[df['device_id'] == 'ZUSVMDEZRBDTX'][['purchase_MONTH', 'time_to_purchase', 'class']]"
   ]
  },
  {
   "cell_type": "code",
   "execution_count": 78,
   "metadata": {
    "colab": {
     "base_uri": "https://localhost:8080/",
     "height": 85
    },
    "colab_type": "code",
    "id": "fxzfqXRLdfYF",
    "outputId": "8b07bb93-3118-43be-be50-be542b18e6b4"
   },
   "outputs": [
    {
     "name": "stdout",
     "output_type": "stream",
     "text": [
      "1    19\n",
      "0     1\n",
      "Name: class, dtype: int64\n"
     ]
    },
    {
     "data": {
      "text/plain": [
       "0.95"
      ]
     },
     "execution_count": 78,
     "metadata": {},
     "output_type": "execute_result"
    }
   ],
   "source": [
    "#let's take a look at the most common device and print the percentage of fraud\n",
    "print(df[df['device_id'] == 'ZUSVMDEZRBDTX']['class'].value_counts())\n",
    "perc = df[df['device_id'] == 'ZUSVMDEZRBDTX']['class'].value_counts()[1]/len(df[df['device_id'] == 'ZUSVMDEZRBDTX'])\n",
    "perc"
   ]
  },
  {
   "cell_type": "code",
   "execution_count": 79,
   "metadata": {
    "colab": {
     "base_uri": "https://localhost:8080/",
     "height": 85
    },
    "colab_type": "code",
    "id": "3js0HZtQedQF",
    "outputId": "f0cc7b31-3f10-45ee-f288-abdb9ee769a1"
   },
   "outputs": [
    {
     "name": "stdout",
     "output_type": "stream",
     "text": [
      "1    19\n",
      "0     1\n",
      "Name: class, dtype: int64\n"
     ]
    },
    {
     "data": {
      "text/plain": [
       "0.95"
      ]
     },
     "execution_count": 79,
     "metadata": {},
     "output_type": "execute_result"
    }
   ],
   "source": [
    "#Let's tak a look at a second one and print the percentage of fraud\n",
    "print(df[df['device_id'] == 'ITUMJCKWEYNDD']['class'].value_counts())\n",
    "perc_ = df[df['device_id'] == 'ITUMJCKWEYNDD']['class'].value_counts()[1]/len(df[df['device_id'] == 'ITUMJCKWEYNDD'])\n",
    "perc_"
   ]
  },
  {
   "cell_type": "code",
   "execution_count": 80,
   "metadata": {
    "colab": {},
    "colab_type": "code",
    "id": "5c8xdA9OXEH-"
   },
   "outputs": [],
   "source": [
    "device_perc = pd.DataFrame({'device_perc' :df.groupby('device_id').mean()['class']})\n",
    "device_perc = device_perc.reset_index()\n",
    "df = df.merge(device_perc, on='device_id', how='left')"
   ]
  },
  {
   "cell_type": "code",
   "execution_count": 81,
   "metadata": {
    "colab": {},
    "colab_type": "code",
    "id": "s9RnQ3ni_P7N"
   },
   "outputs": [],
   "source": [
    "# do the same with ip_adress\n",
    "ip_nb =  pd.DataFrame({'count' :df.ip_address.value_counts()})\n",
    "ip_nb['ip_address'] = ip_nb.index\n",
    "df = df.merge(ip_nb, on='ip_address', how='left')"
   ]
  },
  {
   "cell_type": "code",
   "execution_count": 82,
   "metadata": {
    "colab": {
     "base_uri": "https://localhost:8080/",
     "height": 609
    },
    "colab_type": "code",
    "id": "Uqq7o81njEJm",
    "outputId": "7c6d4925-319e-4f37-bf73-80f4d8d04765"
   },
   "outputs": [
    {
     "data": {
      "text/html": [
       "<div>\n",
       "<style scoped>\n",
       "    .dataframe tbody tr th:only-of-type {\n",
       "        vertical-align: middle;\n",
       "    }\n",
       "\n",
       "    .dataframe tbody tr th {\n",
       "        vertical-align: top;\n",
       "    }\n",
       "\n",
       "    .dataframe thead th {\n",
       "        text-align: right;\n",
       "    }\n",
       "</style>\n",
       "<table border=\"1\" class=\"dataframe\">\n",
       "  <thead>\n",
       "    <tr style=\"text-align: right;\">\n",
       "      <th></th>\n",
       "      <th>user_id</th>\n",
       "      <th>signup_time</th>\n",
       "      <th>purchase_time</th>\n",
       "      <th>purchase_value</th>\n",
       "      <th>device_id</th>\n",
       "      <th>source</th>\n",
       "      <th>browser</th>\n",
       "      <th>sex</th>\n",
       "      <th>age</th>\n",
       "      <th>ip_address</th>\n",
       "      <th>...</th>\n",
       "      <th>time_to_purchase</th>\n",
       "      <th>day_to_purchase</th>\n",
       "      <th>hours_to_purchase</th>\n",
       "      <th>minutes_to_purchase</th>\n",
       "      <th>second_to_purchase</th>\n",
       "      <th>to_speed_for_purchase</th>\n",
       "      <th>January</th>\n",
       "      <th>Device_apparition</th>\n",
       "      <th>device_perc</th>\n",
       "      <th>count</th>\n",
       "    </tr>\n",
       "  </thead>\n",
       "  <tbody>\n",
       "    <tr>\n",
       "      <td>0</td>\n",
       "      <td>22058</td>\n",
       "      <td>2015-02-24 22:55:49</td>\n",
       "      <td>2015-04-18 02:47:11</td>\n",
       "      <td>34</td>\n",
       "      <td>QVPSPJUOCKZAR</td>\n",
       "      <td>SEO</td>\n",
       "      <td>Chrome</td>\n",
       "      <td>M</td>\n",
       "      <td>39</td>\n",
       "      <td>7.327584e+08</td>\n",
       "      <td>...</td>\n",
       "      <td>52 days 03:51:22</td>\n",
       "      <td>52</td>\n",
       "      <td>3</td>\n",
       "      <td>51</td>\n",
       "      <td>22</td>\n",
       "      <td>0</td>\n",
       "      <td>0</td>\n",
       "      <td>1</td>\n",
       "      <td>0.000000</td>\n",
       "      <td>1</td>\n",
       "    </tr>\n",
       "    <tr>\n",
       "      <td>1</td>\n",
       "      <td>333320</td>\n",
       "      <td>2015-06-07 20:39:50</td>\n",
       "      <td>2015-06-08 01:38:54</td>\n",
       "      <td>16</td>\n",
       "      <td>EOGFQPIZPYXFZ</td>\n",
       "      <td>Ads</td>\n",
       "      <td>Chrome</td>\n",
       "      <td>F</td>\n",
       "      <td>53</td>\n",
       "      <td>3.503114e+08</td>\n",
       "      <td>...</td>\n",
       "      <td>0 days 04:59:04</td>\n",
       "      <td>0</td>\n",
       "      <td>4</td>\n",
       "      <td>59</td>\n",
       "      <td>4</td>\n",
       "      <td>0</td>\n",
       "      <td>0</td>\n",
       "      <td>1</td>\n",
       "      <td>0.000000</td>\n",
       "      <td>1</td>\n",
       "    </tr>\n",
       "    <tr>\n",
       "      <td>2</td>\n",
       "      <td>1359</td>\n",
       "      <td>2015-01-01 18:52:44</td>\n",
       "      <td>2015-01-01 18:52:45</td>\n",
       "      <td>15</td>\n",
       "      <td>YSSKYOSJHPPLJ</td>\n",
       "      <td>SEO</td>\n",
       "      <td>Opera</td>\n",
       "      <td>M</td>\n",
       "      <td>53</td>\n",
       "      <td>2.621474e+09</td>\n",
       "      <td>...</td>\n",
       "      <td>0 days 00:00:01</td>\n",
       "      <td>0</td>\n",
       "      <td>0</td>\n",
       "      <td>0</td>\n",
       "      <td>1</td>\n",
       "      <td>1</td>\n",
       "      <td>1</td>\n",
       "      <td>12</td>\n",
       "      <td>0.916667</td>\n",
       "      <td>12</td>\n",
       "    </tr>\n",
       "    <tr>\n",
       "      <td>3</td>\n",
       "      <td>150084</td>\n",
       "      <td>2015-04-28 21:13:25</td>\n",
       "      <td>2015-05-04 13:54:50</td>\n",
       "      <td>44</td>\n",
       "      <td>ATGTXKYKUDUQN</td>\n",
       "      <td>SEO</td>\n",
       "      <td>Safari</td>\n",
       "      <td>M</td>\n",
       "      <td>41</td>\n",
       "      <td>3.840542e+09</td>\n",
       "      <td>...</td>\n",
       "      <td>5 days 16:41:25</td>\n",
       "      <td>5</td>\n",
       "      <td>16</td>\n",
       "      <td>41</td>\n",
       "      <td>25</td>\n",
       "      <td>0</td>\n",
       "      <td>0</td>\n",
       "      <td>1</td>\n",
       "      <td>0.000000</td>\n",
       "      <td>1</td>\n",
       "    </tr>\n",
       "    <tr>\n",
       "      <td>4</td>\n",
       "      <td>221365</td>\n",
       "      <td>2015-07-21 07:09:52</td>\n",
       "      <td>2015-09-09 18:40:53</td>\n",
       "      <td>39</td>\n",
       "      <td>NAUITBZFJKHWW</td>\n",
       "      <td>Ads</td>\n",
       "      <td>Safari</td>\n",
       "      <td>M</td>\n",
       "      <td>45</td>\n",
       "      <td>4.155831e+08</td>\n",
       "      <td>...</td>\n",
       "      <td>50 days 11:31:01</td>\n",
       "      <td>50</td>\n",
       "      <td>11</td>\n",
       "      <td>31</td>\n",
       "      <td>1</td>\n",
       "      <td>0</td>\n",
       "      <td>0</td>\n",
       "      <td>1</td>\n",
       "      <td>0.000000</td>\n",
       "      <td>1</td>\n",
       "    </tr>\n",
       "  </tbody>\n",
       "</table>\n",
       "<p>5 rows × 32 columns</p>\n",
       "</div>"
      ],
      "text/plain": [
       "   user_id         signup_time       purchase_time  purchase_value  \\\n",
       "0    22058 2015-02-24 22:55:49 2015-04-18 02:47:11              34   \n",
       "1   333320 2015-06-07 20:39:50 2015-06-08 01:38:54              16   \n",
       "2     1359 2015-01-01 18:52:44 2015-01-01 18:52:45              15   \n",
       "3   150084 2015-04-28 21:13:25 2015-05-04 13:54:50              44   \n",
       "4   221365 2015-07-21 07:09:52 2015-09-09 18:40:53              39   \n",
       "\n",
       "       device_id source browser sex  age    ip_address  ...  time_to_purchase  \\\n",
       "0  QVPSPJUOCKZAR    SEO  Chrome   M   39  7.327584e+08  ...  52 days 03:51:22   \n",
       "1  EOGFQPIZPYXFZ    Ads  Chrome   F   53  3.503114e+08  ...   0 days 04:59:04   \n",
       "2  YSSKYOSJHPPLJ    SEO   Opera   M   53  2.621474e+09  ...   0 days 00:00:01   \n",
       "3  ATGTXKYKUDUQN    SEO  Safari   M   41  3.840542e+09  ...   5 days 16:41:25   \n",
       "4  NAUITBZFJKHWW    Ads  Safari   M   45  4.155831e+08  ...  50 days 11:31:01   \n",
       "\n",
       "  day_to_purchase hours_to_purchase minutes_to_purchase second_to_purchase  \\\n",
       "0              52                 3                  51                 22   \n",
       "1               0                 4                  59                  4   \n",
       "2               0                 0                   0                  1   \n",
       "3               5                16                  41                 25   \n",
       "4              50                11                  31                  1   \n",
       "\n",
       "  to_speed_for_purchase  January  Device_apparition device_perc count  \n",
       "0                     0        0                  1    0.000000     1  \n",
       "1                     0        0                  1    0.000000     1  \n",
       "2                     1        1                 12    0.916667    12  \n",
       "3                     0        0                  1    0.000000     1  \n",
       "4                     0        0                  1    0.000000     1  \n",
       "\n",
       "[5 rows x 32 columns]"
      ]
     },
     "execution_count": 82,
     "metadata": {},
     "output_type": "execute_result"
    }
   ],
   "source": [
    "df.head()"
   ]
  },
  {
   "cell_type": "code",
   "execution_count": 85,
   "metadata": {
    "colab": {},
    "colab_type": "code",
    "id": "R7GXyCln_QAS"
   },
   "outputs": [],
   "source": [
    "# Rename the two news columns that count device and ip apparition\n",
    "df.rename(columns={'count':'Ip_apparition'}, inplace=True)"
   ]
  },
  {
   "cell_type": "code",
   "execution_count": 86,
   "metadata": {},
   "outputs": [
    {
     "data": {
      "text/html": [
       "<div>\n",
       "<style scoped>\n",
       "    .dataframe tbody tr th:only-of-type {\n",
       "        vertical-align: middle;\n",
       "    }\n",
       "\n",
       "    .dataframe tbody tr th {\n",
       "        vertical-align: top;\n",
       "    }\n",
       "\n",
       "    .dataframe thead th {\n",
       "        text-align: right;\n",
       "    }\n",
       "</style>\n",
       "<table border=\"1\" class=\"dataframe\">\n",
       "  <thead>\n",
       "    <tr style=\"text-align: right;\">\n",
       "      <th></th>\n",
       "      <th>user_id</th>\n",
       "      <th>signup_time</th>\n",
       "      <th>purchase_time</th>\n",
       "      <th>purchase_value</th>\n",
       "      <th>device_id</th>\n",
       "      <th>source</th>\n",
       "      <th>browser</th>\n",
       "      <th>sex</th>\n",
       "      <th>age</th>\n",
       "      <th>ip_address</th>\n",
       "      <th>...</th>\n",
       "      <th>time_to_purchase</th>\n",
       "      <th>day_to_purchase</th>\n",
       "      <th>hours_to_purchase</th>\n",
       "      <th>minutes_to_purchase</th>\n",
       "      <th>second_to_purchase</th>\n",
       "      <th>to_speed_for_purchase</th>\n",
       "      <th>January</th>\n",
       "      <th>Device_apparition</th>\n",
       "      <th>device_perc</th>\n",
       "      <th>Ip_apparition</th>\n",
       "    </tr>\n",
       "  </thead>\n",
       "  <tbody>\n",
       "    <tr>\n",
       "      <td>0</td>\n",
       "      <td>22058</td>\n",
       "      <td>2015-02-24 22:55:49</td>\n",
       "      <td>2015-04-18 02:47:11</td>\n",
       "      <td>34</td>\n",
       "      <td>QVPSPJUOCKZAR</td>\n",
       "      <td>SEO</td>\n",
       "      <td>Chrome</td>\n",
       "      <td>M</td>\n",
       "      <td>39</td>\n",
       "      <td>7.327584e+08</td>\n",
       "      <td>...</td>\n",
       "      <td>52 days 03:51:22</td>\n",
       "      <td>52</td>\n",
       "      <td>3</td>\n",
       "      <td>51</td>\n",
       "      <td>22</td>\n",
       "      <td>0</td>\n",
       "      <td>0</td>\n",
       "      <td>1</td>\n",
       "      <td>0.0</td>\n",
       "      <td>1</td>\n",
       "    </tr>\n",
       "    <tr>\n",
       "      <td>1</td>\n",
       "      <td>333320</td>\n",
       "      <td>2015-06-07 20:39:50</td>\n",
       "      <td>2015-06-08 01:38:54</td>\n",
       "      <td>16</td>\n",
       "      <td>EOGFQPIZPYXFZ</td>\n",
       "      <td>Ads</td>\n",
       "      <td>Chrome</td>\n",
       "      <td>F</td>\n",
       "      <td>53</td>\n",
       "      <td>3.503114e+08</td>\n",
       "      <td>...</td>\n",
       "      <td>0 days 04:59:04</td>\n",
       "      <td>0</td>\n",
       "      <td>4</td>\n",
       "      <td>59</td>\n",
       "      <td>4</td>\n",
       "      <td>0</td>\n",
       "      <td>0</td>\n",
       "      <td>1</td>\n",
       "      <td>0.0</td>\n",
       "      <td>1</td>\n",
       "    </tr>\n",
       "  </tbody>\n",
       "</table>\n",
       "<p>2 rows × 32 columns</p>\n",
       "</div>"
      ],
      "text/plain": [
       "   user_id         signup_time       purchase_time  purchase_value  \\\n",
       "0    22058 2015-02-24 22:55:49 2015-04-18 02:47:11              34   \n",
       "1   333320 2015-06-07 20:39:50 2015-06-08 01:38:54              16   \n",
       "\n",
       "       device_id source browser sex  age    ip_address  ...  time_to_purchase  \\\n",
       "0  QVPSPJUOCKZAR    SEO  Chrome   M   39  7.327584e+08  ...  52 days 03:51:22   \n",
       "1  EOGFQPIZPYXFZ    Ads  Chrome   F   53  3.503114e+08  ...   0 days 04:59:04   \n",
       "\n",
       "  day_to_purchase hours_to_purchase minutes_to_purchase second_to_purchase  \\\n",
       "0              52                 3                  51                 22   \n",
       "1               0                 4                  59                  4   \n",
       "\n",
       "  to_speed_for_purchase  January  Device_apparition device_perc Ip_apparition  \n",
       "0                     0        0                  1         0.0             1  \n",
       "1                     0        0                  1         0.0             1  \n",
       "\n",
       "[2 rows x 32 columns]"
      ]
     },
     "execution_count": 86,
     "metadata": {},
     "output_type": "execute_result"
    }
   ],
   "source": [
    "df.head(2)"
   ]
  },
  {
   "cell_type": "markdown",
   "metadata": {},
   "source": [
    "### Countries"
   ]
  },
  {
   "cell_type": "code",
   "execution_count": 87,
   "metadata": {},
   "outputs": [
    {
     "data": {
      "image/png": "[encoded data removed]",
      "text/plain": [
       "<Figure size 1296x288 with 1 Axes>"
      ]
     },
     "metadata": {
      "needs_background": "light"
     },
     "output_type": "display_data"
    }
   ],
   "source": [
    "# percentage of fraud group by pays\n",
    "fig, axis1 = plt.subplots(1,1,figsize=(18,4))\n",
    "average_fraud = df[[\"country\", \"class\"]].groupby(['country'],as_index=False).mean()\n",
    "sns.barplot(x='country', y='class', data=average_fraud[average_fraud['class']>0.1]);\n",
    "plt.xticks(rotation=90, size = 8, weight = 'bold');"
   ]
  },
  {
   "cell_type": "markdown",
   "metadata": {},
   "source": [
    "Let's take a look at the most \"dangerous\" countries and their number of purchases."
   ]
  },
  {
   "cell_type": "code",
   "execution_count": 88,
   "metadata": {},
   "outputs": [
    {
     "data": {
      "text/html": [
       "<div>\n",
       "<style scoped>\n",
       "    .dataframe tbody tr th:only-of-type {\n",
       "        vertical-align: middle;\n",
       "    }\n",
       "\n",
       "    .dataframe tbody tr th {\n",
       "        vertical-align: top;\n",
       "    }\n",
       "\n",
       "    .dataframe thead th {\n",
       "        text-align: right;\n",
       "    }\n",
       "</style>\n",
       "<table border=\"1\" class=\"dataframe\">\n",
       "  <thead>\n",
       "    <tr style=\"text-align: right;\">\n",
       "      <th></th>\n",
       "      <th>class</th>\n",
       "      <th>nb_of_connexion</th>\n",
       "    </tr>\n",
       "    <tr>\n",
       "      <th>country</th>\n",
       "      <th></th>\n",
       "      <th></th>\n",
       "    </tr>\n",
       "  </thead>\n",
       "  <tbody>\n",
       "    <tr>\n",
       "      <td>Turkmenistan</td>\n",
       "      <td>1.000000</td>\n",
       "      <td>1</td>\n",
       "    </tr>\n",
       "    <tr>\n",
       "      <td>Namibia</td>\n",
       "      <td>0.434783</td>\n",
       "      <td>23</td>\n",
       "    </tr>\n",
       "    <tr>\n",
       "      <td>Sri Lanka</td>\n",
       "      <td>0.419355</td>\n",
       "      <td>31</td>\n",
       "    </tr>\n",
       "    <tr>\n",
       "      <td>Luxembourg</td>\n",
       "      <td>0.388889</td>\n",
       "      <td>72</td>\n",
       "    </tr>\n",
       "    <tr>\n",
       "      <td>Virgin Islands (U.S.)</td>\n",
       "      <td>0.333333</td>\n",
       "      <td>3</td>\n",
       "    </tr>\n",
       "    <tr>\n",
       "      <td>Ecuador</td>\n",
       "      <td>0.264151</td>\n",
       "      <td>106</td>\n",
       "    </tr>\n",
       "    <tr>\n",
       "      <td>Tunisia</td>\n",
       "      <td>0.262712</td>\n",
       "      <td>118</td>\n",
       "    </tr>\n",
       "    <tr>\n",
       "      <td>Peru</td>\n",
       "      <td>0.260504</td>\n",
       "      <td>119</td>\n",
       "    </tr>\n",
       "  </tbody>\n",
       "</table>\n",
       "</div>"
      ],
      "text/plain": [
       "                          class  nb_of_connexion\n",
       "country                                         \n",
       "Turkmenistan           1.000000                1\n",
       "Namibia                0.434783               23\n",
       "Sri Lanka              0.419355               31\n",
       "Luxembourg             0.388889               72\n",
       "Virgin Islands (U.S.)  0.333333                3\n",
       "Ecuador                0.264151              106\n",
       "Tunisia                0.262712              118\n",
       "Peru                   0.260504              119"
      ]
     },
     "execution_count": 88,
     "metadata": {},
     "output_type": "execute_result"
    }
   ],
   "source": [
    "a = pd.DataFrame(df.groupby('country').mean()['class']).sort_values(by = 'class', ascending = False)\n",
    "a['nb_of_connexion'] = df.country.value_counts()\n",
    "a[:8]"
   ]
  },
  {
   "cell_type": "markdown",
   "metadata": {},
   "source": [
    "This time, let's look at the countries with the most purchases and their fraud rates."
   ]
  },
  {
   "cell_type": "code",
   "execution_count": 89,
   "metadata": {},
   "outputs": [
    {
     "data": {
      "text/html": [
       "<div>\n",
       "<style scoped>\n",
       "    .dataframe tbody tr th:only-of-type {\n",
       "        vertical-align: middle;\n",
       "    }\n",
       "\n",
       "    .dataframe tbody tr th {\n",
       "        vertical-align: top;\n",
       "    }\n",
       "\n",
       "    .dataframe thead th {\n",
       "        text-align: right;\n",
       "    }\n",
       "</style>\n",
       "<table border=\"1\" class=\"dataframe\">\n",
       "  <thead>\n",
       "    <tr style=\"text-align: right;\">\n",
       "      <th></th>\n",
       "      <th>class</th>\n",
       "      <th>nb_of_connexion</th>\n",
       "    </tr>\n",
       "    <tr>\n",
       "      <th>country</th>\n",
       "      <th></th>\n",
       "      <th></th>\n",
       "    </tr>\n",
       "  </thead>\n",
       "  <tbody>\n",
       "    <tr>\n",
       "      <td>United States</td>\n",
       "      <td>0.095626</td>\n",
       "      <td>58049</td>\n",
       "    </tr>\n",
       "    <tr>\n",
       "      <td>China</td>\n",
       "      <td>0.086642</td>\n",
       "      <td>12038</td>\n",
       "    </tr>\n",
       "    <tr>\n",
       "      <td>Japan</td>\n",
       "      <td>0.097865</td>\n",
       "      <td>7306</td>\n",
       "    </tr>\n",
       "    <tr>\n",
       "      <td>United Kingdom</td>\n",
       "      <td>0.106236</td>\n",
       "      <td>4490</td>\n",
       "    </tr>\n",
       "    <tr>\n",
       "      <td>Korea Republic of</td>\n",
       "      <td>0.091302</td>\n",
       "      <td>4162</td>\n",
       "    </tr>\n",
       "    <tr>\n",
       "      <td>Germany</td>\n",
       "      <td>0.071860</td>\n",
       "      <td>3646</td>\n",
       "    </tr>\n",
       "    <tr>\n",
       "      <td>France</td>\n",
       "      <td>0.094907</td>\n",
       "      <td>3161</td>\n",
       "    </tr>\n",
       "    <tr>\n",
       "      <td>Canada</td>\n",
       "      <td>0.116975</td>\n",
       "      <td>2975</td>\n",
       "    </tr>\n",
       "  </tbody>\n",
       "</table>\n",
       "</div>"
      ],
      "text/plain": [
       "                      class  nb_of_connexion\n",
       "country                                     \n",
       "United States      0.095626            58049\n",
       "China              0.086642            12038\n",
       "Japan              0.097865             7306\n",
       "United Kingdom     0.106236             4490\n",
       "Korea Republic of  0.091302             4162\n",
       "Germany            0.071860             3646\n",
       "France             0.094907             3161\n",
       "Canada             0.116975             2975"
      ]
     },
     "execution_count": 89,
     "metadata": {},
     "output_type": "execute_result"
    }
   ],
   "source": [
    "b=a.sort_values(by = 'nb_of_connexion', ascending = False)\n",
    "b[:8]"
   ]
  },
  {
   "cell_type": "code",
   "execution_count": 90,
   "metadata": {
    "colab": {},
    "colab_type": "code",
    "id": "zx9AGGa3AGA8"
   },
   "outputs": [],
   "source": [
    "#count contry apparition\n",
    "country_nb = pd.DataFrame({'count' :df.country.value_counts()})\n",
    "country_nb['country'] = country_nb.index\n",
    "df = df.merge(country_nb, on='country', how='left')\n",
    "df.rename(columns={'count':'country_apparition' }, inplace=True)\n",
    "df['country_apparition'] = df['country_apparition'].apply(lambda x : 0 if np.isnan(x) else x)"
   ]
  },
  {
   "cell_type": "code",
   "execution_count": 91,
   "metadata": {
    "colab": {
     "base_uri": "https://localhost:8080/",
     "height": 280
    },
    "colab_type": "code",
    "id": "QmntysTKX2Ah",
    "outputId": "4aed88ef-bea4-4164-ba26-121699719fa8"
   },
   "outputs": [
    {
     "data": {
      "image/png": "[encoded data removed]",
      "text/plain": [
       "<Figure size 432x288 with 1 Axes>"
      ]
     },
     "metadata": {
      "needs_background": "light"
     },
     "output_type": "display_data"
    }
   ],
   "source": [
    "sns.boxplot(df['Device_apparition']);"
   ]
  },
  {
   "cell_type": "code",
   "execution_count": 92,
   "metadata": {
    "colab": {},
    "colab_type": "code",
    "id": "PM3Ld2jI_QC9"
   },
   "outputs": [],
   "source": [
    "df['outlier_device_apparition'] = df.Device_apparition.apply(lambda x : 1 if x >4  else 0 )"
   ]
  },
  {
   "cell_type": "code",
   "execution_count": 93,
   "metadata": {
    "colab": {},
    "colab_type": "code",
    "id": "o0KIOWCSAGIE"
   },
   "outputs": [],
   "source": [
    "# Add column continent so we \n",
    "df['country'] = df['country'].fillna('Missing')\n",
    "def find_continent(arg):\n",
    "    \n",
    "    try :\n",
    "        country_code = pc.country_name_to_country_alpha2(arg, cn_name_format=\"default\")\n",
    "        continent_name = pc.country_alpha2_to_continent_code(country_code)\n",
    "        return continent_name\n",
    "    except KeyError :\n",
    "        return 'Missing'\n",
    "df['continent'] = df['country'].apply(find_continent)\n",
    "\n",
    "df['continent'] = df.continent.replace({\n",
    "    'NA': 'North America',\n",
    "    'SA': 'South America', \n",
    "    'AS': 'Asia',\n",
    "    'OC': 'Australia',\n",
    "    'AF': 'Africa',\n",
    "})"
   ]
  },
  {
   "cell_type": "code",
   "execution_count": null,
   "metadata": {},
   "outputs": [],
   "source": []
  },
  {
   "cell_type": "markdown",
   "metadata": {
    "colab_type": "text",
    "id": "AGbK8NAfkxdl"
   },
   "source": [
    "## Retry Models"
   ]
  },
  {
   "cell_type": "code",
   "execution_count": 94,
   "metadata": {
    "colab": {
     "base_uri": "https://localhost:8080/",
     "height": 117
    },
    "colab_type": "code",
    "id": "YqGZ1SrOkwHU",
    "outputId": "568c0bcf-40e8-488e-ea75-9b2070d71ac7"
   },
   "outputs": [
    {
     "data": {
      "text/html": [
       "<div>\n",
       "<style scoped>\n",
       "    .dataframe tbody tr th:only-of-type {\n",
       "        vertical-align: middle;\n",
       "    }\n",
       "\n",
       "    .dataframe tbody tr th {\n",
       "        vertical-align: top;\n",
       "    }\n",
       "\n",
       "    .dataframe thead th {\n",
       "        text-align: right;\n",
       "    }\n",
       "</style>\n",
       "<table border=\"1\" class=\"dataframe\">\n",
       "  <thead>\n",
       "    <tr style=\"text-align: right;\">\n",
       "      <th></th>\n",
       "      <th>user_id</th>\n",
       "      <th>signup_time</th>\n",
       "      <th>purchase_time</th>\n",
       "      <th>purchase_value</th>\n",
       "      <th>device_id</th>\n",
       "      <th>source</th>\n",
       "      <th>browser</th>\n",
       "      <th>sex</th>\n",
       "      <th>age</th>\n",
       "      <th>ip_address</th>\n",
       "      <th>...</th>\n",
       "      <th>minutes_to_purchase</th>\n",
       "      <th>second_to_purchase</th>\n",
       "      <th>to_speed_for_purchase</th>\n",
       "      <th>January</th>\n",
       "      <th>Device_apparition</th>\n",
       "      <th>device_perc</th>\n",
       "      <th>Ip_apparition</th>\n",
       "      <th>country_apparition</th>\n",
       "      <th>outlier_device_apparition</th>\n",
       "      <th>continent</th>\n",
       "    </tr>\n",
       "  </thead>\n",
       "  <tbody>\n",
       "    <tr>\n",
       "      <td>0</td>\n",
       "      <td>22058</td>\n",
       "      <td>2015-02-24 22:55:49</td>\n",
       "      <td>2015-04-18 02:47:11</td>\n",
       "      <td>34</td>\n",
       "      <td>QVPSPJUOCKZAR</td>\n",
       "      <td>SEO</td>\n",
       "      <td>Chrome</td>\n",
       "      <td>M</td>\n",
       "      <td>39</td>\n",
       "      <td>7.327584e+08</td>\n",
       "      <td>...</td>\n",
       "      <td>51</td>\n",
       "      <td>22</td>\n",
       "      <td>0</td>\n",
       "      <td>0</td>\n",
       "      <td>1</td>\n",
       "      <td>0.0</td>\n",
       "      <td>1</td>\n",
       "      <td>7306.0</td>\n",
       "      <td>0</td>\n",
       "      <td>Asia</td>\n",
       "    </tr>\n",
       "  </tbody>\n",
       "</table>\n",
       "<p>1 rows × 35 columns</p>\n",
       "</div>"
      ],
      "text/plain": [
       "   user_id         signup_time       purchase_time  purchase_value  \\\n",
       "0    22058 2015-02-24 22:55:49 2015-04-18 02:47:11              34   \n",
       "\n",
       "       device_id source browser sex  age    ip_address  ...  \\\n",
       "0  QVPSPJUOCKZAR    SEO  Chrome   M   39  7.327584e+08  ...   \n",
       "\n",
       "   minutes_to_purchase second_to_purchase to_speed_for_purchase January  \\\n",
       "0                   51                 22                     0       0   \n",
       "\n",
       "  Device_apparition device_perc  Ip_apparition  country_apparition  \\\n",
       "0                 1         0.0              1              7306.0   \n",
       "\n",
       "  outlier_device_apparition continent  \n",
       "0                         0      Asia  \n",
       "\n",
       "[1 rows x 35 columns]"
      ]
     },
     "execution_count": 94,
     "metadata": {},
     "output_type": "execute_result"
    }
   ],
   "source": [
    "df.head(1)"
   ]
  },
  {
   "cell_type": "markdown",
   "metadata": {},
   "source": [
    "### Let's launch a decision tree in order to visualize it"
   ]
  },
  {
   "cell_type": "code",
   "execution_count": 130,
   "metadata": {},
   "outputs": [],
   "source": [
    "y=df['class']\n",
    "X = df[['Device_apparition', 'Ip_apparition', 'day_to_purchase', 'minutes_to_purchase', 'second_to_purchase', \n",
    "        'to_speed_for_purchase','outlier_device_apparition', 'hours_to_purchase','day_of_purchased',\n",
    "        'January','country_apparition', 'continent', 'browser', 'device_perc']]\n",
    "X = pd.get_dummies(X, drop_first=True)\n",
    "X_train, X_test, y_train, y_test = train_test_split(X,y, test_size =0.2, random_state = 42)\n",
    "X_columns=X_train.columns"
   ]
  },
  {
   "cell_type": "code",
   "execution_count": 131,
   "metadata": {
    "colab": {
     "base_uri": "https://localhost:8080/",
     "height": 119
    },
    "colab_type": "code",
    "id": "AY3ewmY2uEvg",
    "outputId": "85239e56-adb7-418f-8ed9-5c6fe6162508"
   },
   "outputs": [
    {
     "data": {
      "text/plain": [
       "DecisionTreeClassifier(ccp_alpha=0.0, class_weight=None, criterion='gini',\n",
       "                       max_depth=5, max_features=None, max_leaf_nodes=None,\n",
       "                       min_impurity_decrease=0.0, min_impurity_split=None,\n",
       "                       min_samples_leaf=1, min_samples_split=2,\n",
       "                       min_weight_fraction_leaf=0.0, presort='deprecated',\n",
       "                       random_state=None, splitter='best')"
      ]
     },
     "execution_count": 131,
     "metadata": {},
     "output_type": "execute_result"
    }
   ],
   "source": [
    "from sklearn.tree import DecisionTreeClassifier\n",
    "tree = DecisionTreeClassifier( max_depth = 5)\n",
    "tree.fit(X_train,y_train)"
   ]
  },
  {
   "cell_type": "code",
   "execution_count": 132,
   "metadata": {
    "colab": {
     "base_uri": "https://localhost:8080/",
     "height": 68
    },
    "colab_type": "code",
    "id": "Sd810htvuDf1",
    "outputId": "619423cb-bad1-4b68-f740-c9f4623a9357"
   },
   "outputs": [
    {
     "name": "stdout",
     "output_type": "stream",
     "text": [
      "-------------Decision tree classifier-------------\n",
      "Tree score on train : 0.9873933939398952\n",
      "Tree score on test 0.9877245806174105\n"
     ]
    }
   ],
   "source": [
    "print(\"Decision tree classifier\".center(50, \"-\"))\n",
    "print(\"Tree score on train :\",tree.score(X_train, y_train))  ### donne l'accuracy\n",
    "print(\"Tree score on test\", tree.score(X_test, y_test))"
   ]
  },
  {
   "cell_type": "code",
   "execution_count": 134,
   "metadata": {
    "colab": {
     "base_uri": "https://localhost:8080/",
     "height": 595
    },
    "colab_type": "code",
    "id": "tNmhwcONuPkM",
    "outputId": "b77ce9de-2daa-4bb5-ecea-8a6ee4d338a3"
   },
   "outputs": [
    {
     "data": {
      "image/png": "[encoded data removed]",
      "text/plain": [
       "<Figure size 648x432 with 2 Axes>"
      ]
     },
     "metadata": {
      "needs_background": "light"
     },
     "output_type": "display_data"
    },
    {
     "name": "stdout",
     "output_type": "stream",
     "text": [
      "[[27097    95]\n",
      " [  276  2755]]\n",
      "--*--\n",
      "Classification par Decision Tree\n",
      "              precision    recall  f1-score   support\n",
      "\n",
      "           0       1.00      0.99      0.99     27373\n",
      "           1       0.91      0.97      0.94      2850\n",
      "\n",
      "    accuracy                           0.99     30223\n",
      "   macro avg       0.95      0.98      0.97     30223\n",
      "weighted avg       0.99      0.99      0.99     30223\n",
      "\n"
     ]
    }
   ],
   "source": [
    "y_pred_tree = tree.predict(X_test)\n",
    "\n",
    "f, ax = plt.subplots(figsize=(9, 6))\n",
    "cm = confusion_matrix(y_pred_tree, y_test)\n",
    "sns.heatmap(cm, annot=True, fmt = 'd', ax = ax)\n",
    "ax.set_xlabel(\"Actual\")\n",
    "ax.set_ylabel(\"Predicted\")\n",
    "plt.show()\n",
    "print(cm)\n",
    "print('*'.center(5,'-'))\n",
    "print(\"Classification par Decision Tree\")\n",
    "print(classification_report(y_true = y_test, y_pred  = tree.predict(X_test)))"
   ]
  },
  {
   "cell_type": "code",
   "execution_count": 107,
   "metadata": {
    "colab": {},
    "colab_type": "code",
    "id": "B4_9z9Y3wevN"
   },
   "outputs": [
    {
     "name": "stderr",
     "output_type": "stream",
     "text": [
      "/opt/anaconda3/lib/python3.7/site-packages/sklearn/externals/six.py:31: FutureWarning: The module is deprecated in version 0.21 and will be removed in version 0.23 since we've dropped support for Python 2.7. Please rely on the official version of six (https://pypi.org/project/six/).\n",
      "  \"(https://pypi.org/project/six/).\", FutureWarning)\n"
     ]
    },
    {
     "data": {
      "image/png": "[encoded data removed]",
      "text/plain": [
       "<IPython.core.display.Image object>"
      ]
     },
     "execution_count": 107,
     "metadata": {},
     "output_type": "execute_result"
    }
   ],
   "source": [
    "from sklearn.externals.six import StringIO  \n",
    "from IPython.display import Image  \n",
    "from sklearn.tree import export_graphviz\n",
    "import pydotplus\n",
    "dot_data = StringIO()\n",
    "export_graphviz(tree, out_file=dot_data,  \n",
    "                filled=True, rounded=True,\n",
    "                special_characters=True, feature_names = X_columns)\n",
    "graph = pydotplus.graph_from_dot_data(dot_data.getvalue())  \n",
    "Image(graph.create_png())"
   ]
  },
  {
   "cell_type": "markdown",
   "metadata": {},
   "source": [
    "### Try a balanced and non balanced logistic regression"
   ]
  },
  {
   "cell_type": "code",
   "execution_count": 143,
   "metadata": {
    "colab": {},
    "colab_type": "code",
    "id": "leaC8C-6o7FB"
   },
   "outputs": [],
   "source": [
    "y=df['class']\n",
    "X = df[['Device_apparition', 'Ip_apparition', 'day_to_purchase', 'minutes_to_purchase', 'second_to_purchase', \n",
    "        'to_speed_for_purchase','outlier_device_apparition', 'hours_to_purchase','day_of_purchased',\n",
    "        'January','country_apparition', 'continent', 'browser', 'device_perc']]"
   ]
  },
  {
   "cell_type": "code",
   "execution_count": 144,
   "metadata": {
    "colab": {},
    "colab_type": "code",
    "id": "vUy9tCnPAkrf"
   },
   "outputs": [],
   "source": [
    "# Get dummies and standardScaler\n",
    "from sklearn.preprocessing import StandardScaler \n",
    "sc_x = StandardScaler()\n",
    "num_col = X.select_dtypes([np.number]).columns\n",
    "cat_col = X.select_dtypes(\"object\").columns\n",
    "X_num = X[num_col]\n",
    "X_cat =  pd.get_dummies(X[cat_col],drop_first=True)\n",
    "X_train_num, X_test_num, X_train_cat, X_test_cat, y_train, y_test = train_test_split(X_num, X_cat, y, test_size =0.2)\n",
    "X_train_num_norm = pd.DataFrame(sc_x.fit_transform(X_train_num),columns=X_train_num.columns, index = X_train_num.index)\n",
    "X_test_num_norm = pd.DataFrame(sc_x.transform(X_test_num),columns=X_test_num.columns, index = X_test_num.index)\n",
    "\n",
    "X_train = pd.merge(X_train_num_norm, X_train_cat,left_index=True, right_index=True)\n",
    "X_test = pd.merge(X_test_num_norm, X_test_cat,left_index=True, right_index=True)"
   ]
  },
  {
   "cell_type": "code",
   "execution_count": 145,
   "metadata": {
    "colab": {
     "base_uri": "https://localhost:8080/",
     "height": 68
    },
    "colab_type": "code",
    "id": "kiXyEWc5Bjl_",
    "outputId": "474dfbc7-0bb1-48f5-8162-5c0d60bcaf3b"
   },
   "outputs": [
    {
     "name": "stdout",
     "output_type": "stream",
     "text": [
      "---------------Logistic classifier----------------\n",
      "Logistic score on train : 0.9874761144521007\n",
      "Logistic score on test 0.9869966581742382\n"
     ]
    }
   ],
   "source": [
    "\n",
    "classifier = LogisticRegression()\n",
    "classifier_blced = LogisticRegression(class_weight='balanced')\n",
    "classifier.fit(X_train, y_train)\n",
    "classifier_blced.fit(X_train, y_train)\n",
    "\n",
    "print(\"Logistic classifier\".center(50, \"-\"))\n",
    "print(\"Logistic score on train :\",classifier.score(X_train, y_train))  ### donne l'accuracy\n",
    "print(\"Logistic score on test\", classifier.score(X_test, y_test))"
   ]
  },
  {
   "cell_type": "code",
   "execution_count": 146,
   "metadata": {
    "colab": {
     "base_uri": "https://localhost:8080/",
     "height": 891
    },
    "colab_type": "code",
    "id": "senpnWE7Bjss",
    "outputId": "11f6da9d-e092-489b-9bf1-1679c86ed04c"
   },
   "outputs": [
    {
     "data": {
      "image/png": "[encoded data removed]",
      "text/plain": [
       "<Figure size 648x576 with 4 Axes>"
      ]
     },
     "metadata": {
      "needs_background": "light"
     },
     "output_type": "display_data"
    },
    {
     "name": "stdout",
     "output_type": "stream",
     "text": [
      "--*--\n",
      "Classification by Regression logistique\n",
      "\n",
      "              precision    recall  f1-score   support\n",
      "\n",
      "           0       0.99      0.99      0.99     27396\n",
      "           1       0.93      0.93      0.93      2827\n",
      "\n",
      "    accuracy                           0.99     30223\n",
      "   macro avg       0.96      0.96      0.96     30223\n",
      "weighted avg       0.99      0.99      0.99     30223\n",
      "\n",
      "--*--\n",
      "Classification by Regression logistique with resampling\n",
      "\n",
      "              precision    recall  f1-score   support\n",
      "\n",
      "           0       1.00      0.99      0.99     27396\n",
      "           1       0.88      1.00      0.93      2827\n",
      "\n",
      "    accuracy                           0.99     30223\n",
      "   macro avg       0.94      0.99      0.96     30223\n",
      "weighted avg       0.99      0.99      0.99     30223\n",
      "\n"
     ]
    }
   ],
   "source": [
    "from sklearn.metrics import confusion_matrix\n",
    "y_pred_log_best = classifier.predict(X_test)\n",
    "y_pred_blcd = classifier_blced.predict(X_test)\n",
    "\n",
    "f, ax = plt.subplots(1,2,figsize=(9, 8))\n",
    "\n",
    "cm = confusion_matrix(y_pred_log_best, y_test)\n",
    "cm_blcd = confusion_matrix(y_pred_blcd, y_test)\n",
    "\n",
    "sns.heatmap(cm, annot=True, fmt = 'd', ax = ax[0])\n",
    "ax[0].set_xlabel(\"Actual\")\n",
    "ax[0].set_ylabel(\"Predicted\")\n",
    "sns.heatmap(cm_blcd, annot=True, fmt = 'd', ax = ax[1])\n",
    "ax[1].set_xlabel(\"Actual\")\n",
    "plt.show()\n",
    "print('*'.center(5,'-'))\n",
    "print(\"Classification by Regression logistique\\n\")\n",
    "print(classification_report(y_true = y_test, y_pred  = classifier.predict(X_test)))\n",
    "print('*'.center(5,'-'))\n",
    "print(\"Classification by Regression logistique with resampling\\n\")\n",
    "print(classification_report(y_true = y_test, y_pred  = classifier_blced.predict(X_test)))"
   ]
  },
  {
   "cell_type": "markdown",
   "metadata": {},
   "source": [
    "We have a much higher score than our first model  \n",
    "If we take into account the weight of class in our logistic regression model we are able to predict almost all cases of fraud.   However, we have more cases of false positives"
   ]
  },
  {
   "cell_type": "markdown",
   "metadata": {},
   "source": [
    "### Random Forest"
   ]
  },
  {
   "cell_type": "code",
   "execution_count": 147,
   "metadata": {
    "colab": {
     "base_uri": "https://localhost:8080/",
     "height": 153
    },
    "colab_type": "code",
    "id": "nbuO1l5YBjw5",
    "outputId": "9828bfc3-d3db-48ca-bd48-ed5ad34d02f5"
   },
   "outputs": [
    {
     "data": {
      "text/plain": [
       "RandomForestClassifier(bootstrap=True, ccp_alpha=0.0, class_weight=None,\n",
       "                       criterion='gini', max_depth=None, max_features='auto',\n",
       "                       max_leaf_nodes=None, max_samples=None,\n",
       "                       min_impurity_decrease=0.0, min_impurity_split=None,\n",
       "                       min_samples_leaf=1, min_samples_split=2,\n",
       "                       min_weight_fraction_leaf=0.0, n_estimators=300,\n",
       "                       n_jobs=None, oob_score=False, random_state=None,\n",
       "                       verbose=0, warm_start=False)"
      ]
     },
     "execution_count": 147,
     "metadata": {},
     "output_type": "execute_result"
    }
   ],
   "source": [
    "rfc = RandomForestClassifier(n_estimators = 300)\n",
    "rfc.fit(X_train,y_train)"
   ]
  },
  {
   "cell_type": "code",
   "execution_count": 148,
   "metadata": {
    "colab": {
     "base_uri": "https://localhost:8080/",
     "height": 595
    },
    "colab_type": "code",
    "id": "QZLvrra3Bj0G",
    "outputId": "2267a652-a059-43c9-c776-140d3bdc7e0a"
   },
   "outputs": [
    {
     "data": {
      "image/png": "[encoded data removed]",
      "text/plain": [
       "<Figure size 648x432 with 2 Axes>"
      ]
     },
     "metadata": {
      "needs_background": "light"
     },
     "output_type": "display_data"
    },
    {
     "name": "stdout",
     "output_type": "stream",
     "text": [
      "[[27199   227]\n",
      " [  197  2600]]\n",
      "--*--\n",
      "Classification par random forest \n",
      "              precision    recall  f1-score   support\n",
      "\n",
      "           0       0.99      0.99      0.99     27396\n",
      "           1       0.93      0.92      0.92      2827\n",
      "\n",
      "    accuracy                           0.99     30223\n",
      "   macro avg       0.96      0.96      0.96     30223\n",
      "weighted avg       0.99      0.99      0.99     30223\n",
      "\n"
     ]
    }
   ],
   "source": [
    "y_pred_rfc = rfc.predict(X_test)\n",
    "\n",
    "f, ax = plt.subplots(figsize=(9, 6))\n",
    "cm = confusion_matrix(y_pred_rfc, y_test)\n",
    "sns.heatmap(cm, annot=True, fmt = 'd', ax = ax)\n",
    "plt.show()\n",
    "print(cm)\n",
    "print('*'.center(5,'-'))\n",
    "print(\"Classification par random forest \")\n",
    "print(classification_report(y_true = y_test, y_pred  = rfc.predict(X_test)))"
   ]
  },
  {
   "cell_type": "markdown",
   "metadata": {},
   "source": [
    "### XGBOOST"
   ]
  },
  {
   "cell_type": "code",
   "execution_count": 149,
   "metadata": {
    "colab": {
     "base_uri": "https://localhost:8080/",
     "height": 136
    },
    "colab_type": "code",
    "id": "SIj-7zDEBjqd",
    "outputId": "e6935f3a-005e-4d33-c393-11f1b0ea5b3f"
   },
   "outputs": [
    {
     "data": {
      "text/plain": [
       "XGBClassifier(base_score=0.5, booster='gbtree', colsample_bylevel=1,\n",
       "              colsample_bynode=1, colsample_bytree=1, gamma=0,\n",
       "              learning_rate=0.1, max_delta_step=0, max_depth=3,\n",
       "              min_child_weight=1, missing=None, n_estimators=100, n_jobs=1,\n",
       "              nthread=None, objective='binary:logistic', random_state=0,\n",
       "              reg_alpha=0, reg_lambda=1, scale_pos_weight=1, seed=None,\n",
       "              silent=None, subsample=1, verbosity=1)"
      ]
     },
     "execution_count": 149,
     "metadata": {},
     "output_type": "execute_result"
    }
   ],
   "source": [
    "classifier_xgb = XGBClassifier()\n",
    "classifier_xgb.fit(X_train, y_train)"
   ]
  },
  {
   "cell_type": "code",
   "execution_count": 150,
   "metadata": {
    "colab": {
     "base_uri": "https://localhost:8080/",
     "height": 595
    },
    "colab_type": "code",
    "id": "8eruPaObAkc6",
    "outputId": "6e733ad3-57c0-47ef-c95a-381f4e47c337"
   },
   "outputs": [
    {
     "data": {
      "image/png": "[encoded data removed]",
      "text/plain": [
       "<Figure size 648x432 with 2 Axes>"
      ]
     },
     "metadata": {
      "needs_background": "light"
     },
     "output_type": "display_data"
    },
    {
     "name": "stdout",
     "output_type": "stream",
     "text": [
      "[[27166   166]\n",
      " [  230  2661]]\n",
      "--*--\n",
      "Classification par XGBoost\n",
      "              precision    recall  f1-score   support\n",
      "\n",
      "           0       0.99      0.99      0.99     27396\n",
      "           1       0.92      0.94      0.93      2827\n",
      "\n",
      "    accuracy                           0.99     30223\n",
      "   macro avg       0.96      0.97      0.96     30223\n",
      "weighted avg       0.99      0.99      0.99     30223\n",
      "\n"
     ]
    }
   ],
   "source": [
    "y_pred_xgb = classifier_xgb.predict(X_test)\n",
    "\n",
    "f, ax = plt.subplots(figsize=(9, 6))\n",
    "cm = confusion_matrix(y_pred_xgb, y_test)\n",
    "sns.heatmap(cm, annot=True, fmt = 'd', ax = ax)\n",
    "plt.show()\n",
    "print(cm)\n",
    "print('*'.center(5,'-'))\n",
    "print(\"Classification par XGBoost\")\n",
    "print(classification_report(y_true = y_test, y_pred  = classifier_xgb.predict(X_test)))"
   ]
  },
  {
   "cell_type": "markdown",
   "metadata": {},
   "source": [
    "#### We can try to find the optimal parameters for our models."
   ]
  },
  {
   "cell_type": "code",
   "execution_count": 462,
   "metadata": {
    "colab": {
     "base_uri": "https://localhost:8080/",
     "height": 408
    },
    "colab_type": "code",
    "id": "PZYvP8BIwK6K",
    "outputId": "9b8ff973-3f74-4385-e87a-3c6a02e66eca"
   },
   "outputs": [
    {
     "data": {
      "text/plain": [
       "GridSearchCV(cv=5, error_score=nan,\n",
       "             estimator=DecisionTreeClassifier(ccp_alpha=0.0, class_weight=None,\n",
       "                                              criterion='gini', max_depth=None,\n",
       "                                              max_features=None,\n",
       "                                              max_leaf_nodes=None,\n",
       "                                              min_impurity_decrease=0.0,\n",
       "                                              min_impurity_split=None,\n",
       "                                              min_samples_leaf=1,\n",
       "                                              min_samples_split=2,\n",
       "                                              min_weight_fraction_leaf=0.0,\n",
       "                                              presort='deprecated',\n",
       "                                              random_state=None,\n",
       "                                              splitter='best'),\n",
       "             iid='deprecated', n_jobs=-1,\n",
       "             param_grid={'criterion': ['gini', 'entropy'],\n",
       "                         'max_depth': [5, 10, 15],\n",
       "                         'min_samples_leaf': [1, 11, 21, 31, 41, 51, 61, 71, 81,\n",
       "                                              91, 101],\n",
       "                         'min_samples_split': [1, 11, 21, 31, 41, 51, 61, 71,\n",
       "                                               81, 91, 101],\n",
       "                         'splitter': ['best', 'random']},\n",
       "             pre_dispatch='2*n_jobs', refit=True, return_train_score=False,\n",
       "             scoring=None, verbose=0)"
      ]
     },
     "execution_count": 462,
     "metadata": {
      "tags": []
     },
     "output_type": "execute_result"
    }
   ],
   "source": [
    "## Decision Tree seems better to predict fraud let's try a grdi search for best params\n",
    "tree_cv = DecisionTreeClassifier()\n",
    "params = {'max_depth' : [5,10,15],\n",
    "         'criterion' : ['gini', 'entropy' ],\n",
    "          'splitter' : ['best', 'random'],\n",
    "          'min_samples_split' : [i for i in range(1,111,10)],\n",
    "          'min_samples_leaf' : [i for i in range(1,111,10)]}\n",
    "\n",
    "grid_tree =  GridSearchCV(estimator=tree_cv, param_grid= params, cv = 5, n_jobs =-1)\n",
    "grid_tree.fit(X_train, y_train)"
   ]
  },
  {
   "cell_type": "code",
   "execution_count": 463,
   "metadata": {
    "colab": {
     "base_uri": "https://localhost:8080/",
     "height": 102
    },
    "colab_type": "code",
    "id": "YQFMTd6mxtvR",
    "outputId": "0aabbb19-9460-4f33-9985-5c1403a0285a"
   },
   "outputs": [
    {
     "data": {
      "text/plain": [
       "{'criterion': 'entropy',\n",
       " 'max_depth': 15,\n",
       " 'min_samples_leaf': 11,\n",
       " 'min_samples_split': 101,\n",
       " 'splitter': 'random'}"
      ]
     },
     "execution_count": 463,
     "metadata": {
      "tags": []
     },
     "output_type": "execute_result"
    }
   ],
   "source": [
    "grid_tree.best_estimator_.predict"
   ]
  },
  {
   "cell_type": "code",
   "execution_count": null,
   "metadata": {},
   "outputs": [],
   "source": []
  },
  {
   "cell_type": "code",
   "execution_count": 468,
   "metadata": {
    "colab": {
     "base_uri": "https://localhost:8080/",
     "height": 595
    },
    "colab_type": "code",
    "id": "R1S0ICjcz916",
    "outputId": "72e651bf-5423-4467-fee7-949291f6ad69"
   },
   "outputs": [
    {
     "data": {
      "image/png": "[encoded data removed]",
      "text/plain": [
       "<Figure size 648x432 with 2 Axes>"
      ]
     },
     "metadata": {
      "tags": []
     },
     "output_type": "display_data"
    },
    {
     "name": "stdout",
     "output_type": "stream",
     "text": [
      "[[27169   189]\n",
      " [  201  2664]]\n",
      "--*--\n",
      "Classification par XGBoost\n",
      "              precision    recall  f1-score   support\n",
      "\n",
      "           0       0.99      0.99      0.99     27370\n",
      "           1       0.93      0.93      0.93      2853\n",
      "\n",
      "    accuracy                           0.99     30223\n",
      "   macro avg       0.96      0.96      0.96     30223\n",
      "weighted avg       0.99      0.99      0.99     30223\n",
      "\n"
     ]
    }
   ],
   "source": [
    "y_pred_tree_cv = grid_tree.best_estimator_.predict(X_test)\n",
    "\n",
    "f, ax = plt.subplots(figsize=(9, 6))\n",
    "cm = confusion_matrix(y_pred_tree_cv, y_test)\n",
    "sns.heatmap(cm, annot=True, fmt = 'd', ax = ax)\n",
    "plt.show()\n",
    "print(cm)\n",
    "print('*'.center(5,'-'))\n",
    "print(\"Classification par XGBoost\")\n",
    "print(classification_report(y_true = y_test, y_pred  = y_pred_tree_cv))"
   ]
  },
  {
   "cell_type": "code",
   "execution_count": 471,
   "metadata": {
    "colab": {
     "base_uri": "https://localhost:8080/",
     "height": 34
    },
    "colab_type": "code",
    "id": "2sHeC3LZ0Rcy",
    "outputId": "dbb89532-ebf8-4f6e-aca5-4a047a5cb3ba"
   },
   "outputs": [
    {
     "data": {
      "text/plain": [
       "0.9889898998254597"
      ]
     },
     "execution_count": 471,
     "metadata": {
      "tags": []
     },
     "output_type": "execute_result"
    }
   ],
   "source": [
    "grid_tree.best_estimator_.score(X_train, y_train)"
   ]
  },
  {
   "cell_type": "code",
   "execution_count": 472,
   "metadata": {
    "colab": {
     "base_uri": "https://localhost:8080/",
     "height": 34
    },
    "colab_type": "code",
    "id": "zslUeFP103A4",
    "outputId": "e34b3140-2221-46df-a812-2f107014b02b"
   },
   "outputs": [
    {
     "data": {
      "text/plain": [
       "0.9870959203255798"
      ]
     },
     "execution_count": 472,
     "metadata": {
      "tags": []
     },
     "output_type": "execute_result"
    }
   ],
   "source": [
    "grid_tree.best_estimator_.score(X_test, y_test)"
   ]
  },
  {
   "cell_type": "code",
   "execution_count": 0,
   "metadata": {
    "colab": {},
    "colab_type": "code",
    "id": "gbtgPC222X9F"
   },
   "outputs": [],
   "source": []
  },
  {
   "cell_type": "code",
   "execution_count": 0,
   "metadata": {
    "colab": {
     "base_uri": "https://localhost:8080/",
     "height": 71
    },
    "colab_type": "code",
    "id": "_Guh8YBKFmST",
    "outputId": "33f62f4e-4788-449b-a6b4-944990cd6614"
   },
   "outputs": [
    {
     "name": "stderr",
     "output_type": "stream",
     "text": [
      "/usr/local/lib/python3.6/dist-packages/joblib/externals/loky/process_executor.py:706: UserWarning: A worker stopped while some jobs were given to the executor. This can be caused by a too short worker timeout or by a memory leak.\n",
      "  \"timeout or by a memory leak.\", UserWarning\n"
     ]
    }
   ],
   "source": [
    "## We can do the qame with random Forest\n",
    "rfc_cv = RandomForestClassifier()\n",
    "params = {'n_estimators' : [50,100,200,500],\n",
    "          'max_depth' : [5,10,15],\n",
    "         'criterion' : ['gini', 'entropy' ],\n",
    "          'min_samples_split' : [i for i in range(10,50,100)],\n",
    "          'min_samples_leaf' : [i for i in range(10,50,100)]}\n",
    "\n",
    "\n",
    "grid_rfc =  GridSearchCV(estimator=rfc_cv, param_grid= params, cv = 5, n_jobs =-1)\n",
    "grid_rfc.fit(X_train, y_train)"
   ]
  },
  {
   "cell_type": "code",
   "execution_count": 0,
   "metadata": {
    "colab": {},
    "colab_type": "code",
    "id": "YTnZ5Arv3RIW"
   },
   "outputs": [],
   "source": [
    "grid_rfc.best_estimator_.score(X_traib, y_train)"
   ]
  },
  {
   "cell_type": "code",
   "execution_count": 0,
   "metadata": {
    "colab": {},
    "colab_type": "code",
    "id": "AVth0pZy3Rr6"
   },
   "outputs": [],
   "source": [
    "y_pred_rfc_cv = grid_rfc.best_estimator_.predict(X_test)\n",
    "\n",
    "f, ax = plt.subplots(figsize=(9, 6))\n",
    "cm = confusion_matrix(y_pred_rfc_cv, y_test)\n",
    "sns.heatmap(cm, annot=True, fmt = 'd', ax = ax)\n",
    "plt.show()\n",
    "print(cm)\n",
    "print('*'.center(5,'-'))\n",
    "print(\"Classification par XGBoost\")\n",
    "print(classification_report(y_true = y_test, y_pred  = y_pred_rfc_cv))"
   ]
  },
  {
   "cell_type": "markdown",
   "metadata": {
    "colab": {},
    "colab_type": "code",
    "id": "iwTNqgOS3Aff"
   },
   "source": [
    "## CONCLUSION"
   ]
  },
  {
   "cell_type": "markdown",
   "metadata": {},
   "source": [
    "We manage to predict fraud with a percentage close to 90%  \n",
    "By rebalancing the dataset we reach a score close to 100% however we have more false positives"
   ]
  },
  {
   "cell_type": "code",
   "execution_count": null,
   "metadata": {},
   "outputs": [],
   "source": []
  }
 ],
 "metadata": {
  "accelerator": "GPU",
  "colab": {
   "collapsed_sections": [],
   "name": "ML_fraud_detection.ipynb",
   "provenance": []
  },
  "kernelspec": {
   "display_name": "Python 3",
   "language": "python",
   "name": "python3"
  },
  "language_info": {
   "codemirror_mode": {
    "name": "ipython",
    "version": 3
   },
   "file_extension": ".py",
   "mimetype": "text/x-python",
   "name": "python",
   "nbconvert_exporter": "python",
   "pygments_lexer": "ipython3",
   "version": "3.7.4"
  }
 },
 "nbformat": 4,
 "nbformat_minor": 1
}
